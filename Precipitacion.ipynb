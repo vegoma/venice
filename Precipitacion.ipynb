{
 "cells": [
  {
   "cell_type": "markdown",
   "metadata": {},
   "source": [
    "# Precipitacion"
   ]
  },
  {
   "cell_type": "markdown",
   "metadata": {},
   "source": [
    "Para ver el concepto de Precipitacion y Cambio Climático revise la [Introduccion](Introduction.ipynb).\n",
    "+ Mapas de Precipitacion Total de años recientes de cada departamento."
   ]
  },
  {
   "cell_type": "markdown",
   "metadata": {},
   "source": [
    "## Mapas de Precipitacion Total"
   ]
  },
  {
   "cell_type": "code",
   "execution_count": 1,
   "metadata": {},
   "outputs": [],
   "source": [
    "#Se descargan las librerias necesarias \n",
    "import matplotlib.pyplot as plt\n",
    "import numpy as np\n",
    "import pandas as pd\n",
    "import cartopy as cart\n",
    "import scipy.stats #Metodos estadisticos\n",
    "import matplotlib.colors as colors #Set Colors\n",
    "import wradlib.ipol as ipol #Metodo de Interpolación\n",
    "\n",
    "class Mapa:  \n",
    "    # El metodo inicial o constructor\n",
    "    def __init__(self, departamento, year, mes, tipo):\n",
    "     \n",
    "        # Instance Variable    \n",
    "        self.departamento = departamento\n",
    "        self.year = year\n",
    "        self.mes = mes\n",
    "        self.tipo = tipo\n",
    "        self.normal = '1981-2010' \n",
    "        \n",
    "    # El metodo para contruir mapas     \n",
    "    def get_mapa(self, ax, periodo):\n",
    "        \n",
    "        #Se define la extensión del mapa\n",
    "        if str(self.departamento) == 'Santander':\n",
    "            lllat, urlat, lllon, urlon = 5.5, 8.5, -75, -72   \n",
    "        elif str(self.departamento) == 'Magdalena':\n",
    "            lllat, urlat, lllon, urlon = 8.7, 11.5, -75.55, -73\n",
    "    \n",
    "        #Se establece instancia de Cartopy    \n",
    "        ax.set_extent([lllon, urlon, lllat, urlat], crs=cart.crs.PlateCarree())\n",
    "        ax.add_feature(cart.feature.OCEAN, zorder=100, edgecolor='k')#, facecolor='white')\n",
    "    \n",
    "        #Se dibujan los departamentos de Colombia\n",
    "        fname = r\".\\DIVISION_COLOMBIA\\MGN_DPTO_POLITICO.shp\"\n",
    "        adm1_shapes = list(cart.io.shapereader.Reader(fname).geometries())\n",
    "        ax.add_geometries(adm1_shapes, cart.crs.PlateCarree(), edgecolor='black', facecolor='none', alpha=0.5)\n",
    "\n",
    "        #Se cargan los datos de las estaciones    \n",
    "        df = pd.read_csv(str(r\".\\Datos\\Precipitacion\\Precipitacion_\"+str(periodo)+\".csv\"))\n",
    "\n",
    "        #Se seleccionan las estaciones que se ubiquen en el area del mapa \n",
    "        data_magdalena = df.loc[(df['LONGITUD'] < urlon) & (df['LONGITUD'] > lllon)\n",
    "                  & (df['LATITUD'] < urlat) & (df['LATITUD'] > lllat)]\n",
    "\n",
    "        #Se remueven filas de dataframe que tengan valores nan para el mes especifico\n",
    "        data_magdalena = data_magdalena.dropna(subset=[str(self.mes)])\n",
    "\n",
    "        #Se extrae los valores de coordenadas, altura y valor de cada estacion\n",
    "        longitud = data_magdalena['LONGITUD'].tolist()\n",
    "        latitud = data_magdalena['LATITUD'].tolist()\n",
    "        elevacion = data_magdalena['ELEVACION'].tolist()\n",
    "        valor = data_magdalena[str(self.mes)].tolist()\n",
    "        src = np.vstack( (np.array(longitud), np.array(latitud)) ).transpose()\n",
    "\n",
    "        #Se crea una grilla 100x100\n",
    "        numcols, numrows = 350, 350\n",
    "        xtrg = np.linspace(lllon, urlon, numcols)\n",
    "        ytrg = np.linspace(lllat, urlat, numrows)\n",
    "        trg = np.meshgrid(xtrg, ytrg)\n",
    "        trg = np.vstack( (trg[0].ravel(), trg[1].ravel()) ).T\n",
    "\n",
    "        #Se aplica el método de interpolación OK (Ordinary Kriging)\n",
    "        idw = ipol.OrdinaryKriging(src, trg)\n",
    "        zi = idw(np.array(valor))\n",
    "  \n",
    "        if str(periodo) == \"1981-2010\":\n",
    "            self.Normal, self.x, self.y = zi, xtrg, ytrg\n",
    "        elif str(periodo) != \"1981-2010\" and str(self.tipo) == \"Anomalia\":\n",
    "            return zi, ax\n",
    "        \n",
    "        #Se dibuja los valores en el mapa\n",
    "        cmap = plt.get_cmap('hsv',16)\n",
    "        con = plt.pcolormesh(xtrg, ytrg, zi.reshape( (numcols, numrows) ), transform=cart.crs.PlateCarree(), alpha=0.6, cmap = cmap, vmin = 0, vmax = 800)\n",
    "\n",
    "        #Se dibuja la grafica de colores\n",
    "        cbar = plt.colorbar(con, orientation='horizontal',fraction=.042, pad=0.03)\n",
    "        \n",
    "    def plot_mapas(self):\n",
    "        # Se define el tamaño del cuadro \n",
    "        plt.figure(figsize=(12.4, 9.4))\n",
    "\n",
    "        # Tabla 1x3 y dibujaremos en la celda 1\n",
    "        ax = plt.subplot(1, 2, 1, projection=cart.crs.PlateCarree())\n",
    "        ax.set_title('Normal Climatologica Precipitacion (1981-2010)',fontdict = {'fontsize':13})\n",
    "        self.get_mapa(ax,self.normal)\n",
    "        normal, x, y = self.Normal, self.x, self.y\n",
    "\n",
    "        # Tabla 1x3 y dibujaremos en la celda 2\n",
    "        ax = plt.subplot(1, 2, 2, projection=cart.crs.PlateCarree()) \n",
    "        ax.set_title('Precipitacion Total '+str(self.year),fontdict = {'fontsize':13})    \n",
    "    \n",
    "        #Se obtiene el mapa de Índice de Precipitacion\n",
    "        if str(self.tipo) == 'Anomalia':\n",
    "            actual, ax = self.get_mapa(ax,self.year) \n",
    "            anomalia = np.divide(actual,normal)*100\n",
    "            cmap = colors.ListedColormap([\"#ffaa01\",\"#ffd380\",\"#fffbc3\",\"#ffffff\",\"#bee9fe\",\"#72b3ff\",\"#0171ff\"]) \n",
    "            levels = [0,30, 60, 90, 110, 140, 170, 500]\n",
    "            norm = colors.BoundaryNorm(levels, cmap.N)\n",
    "            con = plt.pcolormesh(x,y,anomalia.reshape( (350, 350) ), transform=cart.crs.PlateCarree(), alpha=0.6, cmap = cmap, norm = norm)\n",
    "            cbar = plt.colorbar(con, orientation='horizontal',fraction=.042, pad=0.03)\n",
    "            ax.set_title('Índice de Precipitacion '+str(self.year),fontdict = {'fontsize':13})\n",
    "        else:\n",
    "            self.get_mapa(ax,self.year)\n",
    " \n",
    "        # Dibujamos el conjunto\n",
    "        plt.show()   "
   ]
  },
  {
   "cell_type": "code",
   "execution_count": 5,
   "metadata": {},
   "outputs": [
    {
     "data": {
      "application/vnd.jupyter.widget-view+json": {
       "model_id": "395c0e4e2146480aa37ee83ff0a4cb24",
       "version_major": 2,
       "version_minor": 0
      },
      "text/plain": [
       "HBox(children=(Dropdown(description='Mes:', options=(('Enero', 'ENE'), ('Febrero', 'FEB'), ('Marzo', 'MAR'), (…"
      ]
     },
     "metadata": {},
     "output_type": "display_data"
    },
    {
     "data": {
      "application/vnd.jupyter.widget-view+json": {
       "model_id": "41ec599891e44d9990dd452998817405",
       "version_major": 2,
       "version_minor": 0
      },
      "text/plain": [
       "Output()"
      ]
     },
     "metadata": {},
     "output_type": "display_data"
    }
   ],
   "source": [
    "import ipywidgets as widgets\n",
    "import time\n",
    "\n",
    "a = widgets.Dropdown(options=[('Enero', 'ENE'), ('Febrero', 'FEB'), ('Marzo', 'MAR'), ('Abril', 'ABR'), ('Mayo', 'MAY'),\n",
    "                             ('Junio', 'JUN'), ('Julio', 'JUL'), ('Agosto', 'AGO'), ('Septiembre', 'SEP'),\n",
    "                             ('Octubre', 'OCT'), ('Noviembre', 'NOV'), ('Diciembre', 'DIC')], description='Mes:')\n",
    "b = widgets.Dropdown(options=[2011,2012,2013,2014,2015,2016,2017,2018,2019,2020], description='Año:')\n",
    "c = widgets.Dropdown(options=['Magdalena', 'Santander'], description='Dep:')\n",
    "d = widgets.Dropdown(options=[('Anomalía', 'Anomalia'), ('Valor Absoluto', 'Absoluto')], description='Tipo:')\n",
    "ui = widgets.HBox([a, b, c, d])\n",
    "def f(a, b, c, d):\n",
    "    start_time = time.time()\n",
    "    m = Mapa(c,b,a,d)\n",
    "    m.plot_mapas()\n",
    "    print(\"--- %s seconds ---\" % (time.time() - start_time))\n",
    "\n",
    "out = widgets.interactive_output(f, {'a': a, 'b': b, 'c': c, 'd': d})\n",
    "\n",
    "display(ui, out)"
   ]
  },
  {
   "cell_type": "code",
   "execution_count": 3,
   "metadata": {},
   "outputs": [],
   "source": [
    "#####################################################################\n",
    "# Se programa para que se esconda el código de este Jupyter Notebook\n",
    "#####################################################################"
   ]
  },
  {
   "cell_type": "code",
   "execution_count": 4,
   "metadata": {},
   "outputs": [
    {
     "data": {
      "text/html": [
       "<script>\n",
       "code_show=true; \n",
       "function code_toggle() {\n",
       " if (code_show){\n",
       " $('div.input').hide();\n",
       " } else {\n",
       " $('div.input').show();\n",
       " }\n",
       " code_show = !code_show\n",
       "} \n",
       "$( document ).ready(code_toggle);\n",
       "</script>\n",
       "El código de este cuaderno IPython está oculto de forma predeterminada para facilitar la lectura.\n",
       "Para activar / desactivar el código sin formato, haga clic <a href=\"javascript:code_toggle()\">aqui</a>."
      ],
      "text/plain": [
       "<IPython.core.display.HTML object>"
      ]
     },
     "execution_count": 4,
     "metadata": {},
     "output_type": "execute_result"
    }
   ],
   "source": [
    "from IPython.display import HTML\n",
    "HTML('''<script>\n",
    "code_show=true; \n",
    "function code_toggle() {\n",
    " if (code_show){\n",
    " $('div.input').hide();\n",
    " } else {\n",
    " $('div.input').show();\n",
    " }\n",
    " code_show = !code_show\n",
    "} \n",
    "$( document ).ready(code_toggle);\n",
    "</script>\n",
    "El código de este cuaderno IPython está oculto de forma predeterminada para facilitar la lectura.\n",
    "Para activar / desactivar el código sin formato, haga clic <a href=\"javascript:code_toggle()\">aqui</a>.''')"
   ]
  },
  {
   "cell_type": "code",
   "execution_count": null,
   "metadata": {},
   "outputs": [],
   "source": []
  }
 ],
 "metadata": {
  "kernelspec": {
   "display_name": "Python_3.6",
   "language": "python",
   "name": "python_3.6"
  },
  "language_info": {
   "codemirror_mode": {
    "name": "ipython",
    "version": 3
   },
   "file_extension": ".py",
   "mimetype": "text/x-python",
   "name": "python",
   "nbconvert_exporter": "python",
   "pygments_lexer": "ipython3",
   "version": "3.6.12"
  }
 },
 "nbformat": 4,
 "nbformat_minor": 4
}
