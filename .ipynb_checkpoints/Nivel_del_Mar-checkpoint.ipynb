{
 "cells": [
  {
   "cell_type": "markdown",
   "metadata": {},
   "source": [
    "# Nivel del Mar\n",
    "\n",
    "Para ver el concepto de Nivel del Mar y Cambio Climático revise la [Introduccion](Introduction.ipynb).\n",
    "\n",
    "+ Gráfico de Tendencia de Nivel del Mar en Santa Marta. "
   ]
  },
  {
   "cell_type": "markdown",
   "metadata": {},
   "source": [
    "## Gráfico de Tendencia del Nivel del Mar "
   ]
  },
  {
   "cell_type": "code",
   "execution_count": null,
   "metadata": {
    "scrolled": false
   },
   "outputs": [],
   "source": [
    "#load to the depencies\n",
    "import pandas as pd\n",
    "import numpy as np\n",
    "import matplotlib.pyplot as plt\n",
    "import plotly.express as px\n",
    "import plotly.graph_objects as go\n",
    "from sklearn.linear_model import LinearRegression\n",
    "from scipy.stats import pearsonr\n",
    "import datetime as dt\n",
    "\n",
    "#Se importa los datos\n",
    "df = pd.read_csv(r\".\\Datos\\Nivel del Mar\\datos_nivel_mar.csv\")\n",
    "\n",
    "#Se leen las fechas en formato datetime\n",
    "df.fecha = pd.to_datetime(df['fecha'], format = '%d/%m/%Y')\n",
    "\n",
    "#Se genera el grafico\n",
    "fig = px.line(df, x=\"fecha\", y='cartagena', template='plotly')\n",
    "\n",
    "#Se configura algunas caracteristicas del grafico\n",
    "fig.update_traces(mode=\"markers+lines\", hovertemplate=None)\n",
    "fig.update_layout(hovermode=\"x unified\", yaxis_title=\"Nivel Medio del Mar [mm]\", xaxis_title=\"Tiempo\",\n",
    "                 title_text=\"Nivel Medio del Mar en Santa Marta (Magdalena) 1993-2019\", title_x=0.5, title_y=0.94)\n",
    "fig.update_layout(margin=dict(l=0, r=0, t=50, b=200))\n",
    "fig.update_layout(legend=dict(yanchor=\"top\",y=0.99,xanchor=\"left\",x=0.01))\n",
    "\n",
    "#Regresion Lineal de los datos entre 1993 2019\n",
    "regr = LinearRegression()\n",
    "dg = df[df['cartagena'].notna()]\n",
    "x = np.array((dg['fecha'] -  dg['fecha'].iloc[0]).dt.days)\n",
    "y = np.array(dg['cartagena'])\n",
    "regr.fit(x[1:].reshape(-1, 1), y[1:].reshape(-1, 1))\n",
    "regresion = regr.predict(x.astype(float).reshape(-1, 1))\n",
    "slope_anual = regr.coef_[0][0]\n",
    "score = regr.score(x.reshape(-1, 1), y.reshape(-1, 1))\n",
    "corr, _ = pearsonr(x, y)\n",
    "\n",
    "#Se muestra la regresion lineal (ecuacion y valor R) en el grafico \n",
    "label_regresion = [dict(text=\"Regresión Lineal: \", x=0, xref=\"paper\", y=-0.25, yref=\"paper\",align=\"left\", showarrow=False)]\n",
    "fig.update_layout(annotations= label_regresion)\n",
    "fig.add_trace((go.Scattergl(x=dg['fecha'].tolist(),y=list(regresion.ravel()), mode=\"lines\", name='Regresion Lineal', \n",
    "                   visible = False,line=dict(color=\"black\"))))\n",
    "text = str('y = '+str(round(slope_anual,4))+'x + '+str(round(regr.intercept_[0],2)))\n",
    "R2_text = str('R2 = '+str(round(score,4)))\n",
    "annotation_c = [dict(x='2015', y=min(dg['cartagena'])+15, text=text, showarrow=False, font=dict(color='black',size = 14))]        \n",
    "annotation_c.append(dict(x='2015', y=min(dg['cartagena'])-25, text=R2_text, showarrow=False, font=dict(color='black',size = 14)))\n",
    "        \n",
    "# Se configura Botones para controlar ver la Regresion Lineal\n",
    "layoutButtons = list([dict(type=\"buttons\",active=0,\n",
    "                           buttons=list([   \n",
    "                        dict(label = 'Activar',\n",
    "                             method = 'update',\n",
    "                             args = [{'visible': [True, True, True, True]},{'annotations':annotation_c+label_regresion}]),\n",
    "                        dict(label = 'Desactivar',\n",
    "                            method = 'update',\n",
    "                             args = [{'visible':[True, False, False, False]},{'annotations':label_regresion}]),\n",
    "                                        ]),\n",
    "                           pad={\"r\": 10, \"t\": 10}, showactive=True, x=0.14, xanchor=\"left\",\n",
    "                           y=-0.27 ,yanchor=\"bottom\", direction=\"right\"\n",
    "                           )\n",
    "                    ])\n",
    "\n",
    "#Se agrega los botones al grafico\n",
    "fig.update_layout(updatemenus=layoutButtons)\n",
    "\n",
    "fig.show()"
   ]
  },
  {
   "cell_type": "code",
   "execution_count": null,
   "metadata": {},
   "outputs": [],
   "source": [
    "from IPython.display import HTML\n",
    "HTML('''<script>\n",
    "code_show=true; \n",
    "function code_toggle() {\n",
    " if (code_show){\n",
    " $('div.input').hide();\n",
    " } else {\n",
    " $('div.input').show();\n",
    " }\n",
    " code_show = !code_show\n",
    "} \n",
    "$( document ).ready(code_toggle);\n",
    "</script>\n",
    "El código de este cuaderno IPython está oculto de forma predeterminada para facilitar la lectura.\n",
    "Para activar / desactivar el código sin formato, haga clic <a href=\"javascript:code_toggle()\">aqui</a>.''')"
   ]
  },
  {
   "cell_type": "code",
   "execution_count": null,
   "metadata": {},
   "outputs": [],
   "source": []
  }
 ],
 "metadata": {
  "celltoolbar": "Edit Metadata",
  "kernelspec": {
   "display_name": "Python_3.6",
   "language": "python",
   "name": "python_3.6"
  },
  "language_info": {
   "codemirror_mode": {
    "name": "ipython",
    "version": 3
   },
   "file_extension": ".py",
   "mimetype": "text/x-python",
   "name": "python",
   "nbconvert_exporter": "python",
   "pygments_lexer": "ipython3",
   "version": "3.6.13"
  }
 },
 "nbformat": 4,
 "nbformat_minor": 4
}
