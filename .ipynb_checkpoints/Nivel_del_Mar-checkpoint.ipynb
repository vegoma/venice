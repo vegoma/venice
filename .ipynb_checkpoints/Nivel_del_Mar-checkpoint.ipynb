{
 "cells": [
  {
   "cell_type": "markdown",
   "metadata": {},
   "source": [
    "# Nivel del Mar\n",
    "\n",
    "Para ver el concepto de Nivel del Mar y Cambio Climático revise la [Introduccion](Introduction.ipynb).\n",
    "+ Mapas de Nivel del Mar de años recientes en Magdalena.\n",
    "+ Gráfico de Tendencia de Nivel del Mar en Santa Marta y Cartagena. "
   ]
  },
  {
   "cell_type": "markdown",
   "metadata": {},
   "source": [
    "## Gráfico de Tendencia del Nivel del Mar "
   ]
  },
  {
   "cell_type": "code",
   "execution_count": null,
   "metadata": {
    "scrolled": false
   },
   "outputs": [],
   "source": [
    "#load to the depencies\n",
    "import pandas as pd\n",
    "import numpy as np\n",
    "import matplotlib.pyplot as plt\n",
    "import plotly.express as px\n",
    "import plotly.graph_objects as go\n",
    "from sklearn.linear_model import LinearRegression\n",
    "from scipy.stats import pearsonr\n",
    "import datetime as dt\n",
    "\n",
    "#Se importa los datos\n",
    "df = pd.read_csv(r\".\\Datos\\Nivel del Mar\\datos_nivel_mar.csv\")\n",
    "\n",
    "#Se leen las fechas en formato datetime\n",
    "df.fecha = pd.to_datetime(df['fecha'], format = '%d/%m/%Y')\n",
    "\n",
    "#Se genera el grafico\n",
    "ciudades = ['cartagena', 'santa_marta']\n",
    "fig = px.line(df, x=\"fecha\", y=ciudades, template='plotly')\n",
    "\n",
    "#Se configura algunas caracteristicas del grafico\n",
    "fig.update_traces(mode=\"markers+lines\", hovertemplate=None)\n",
    "fig.update_layout(legend=dict(yanchor=\"top\",y=0.99,xanchor=\"left\",x=0.01))\n",
    "fig.update_layout(hovermode=\"x unified\", yaxis_title=\"Nivel Medio del Mar [mm]\", xaxis_title=\"Tiempo\",\n",
    "                 title_text=\"Nivel Medio del Mar en Santa Marta y Cartagena\", title_x=0.5, title_y=0.97)\n",
    "fig.update_layout(margin=dict(l=0, r=0, t=25, b=190))\n",
    "\n",
    "#Regresion Lineal de los datos\n",
    "for ciudad in ciudades:\n",
    "    regr = LinearRegression()\n",
    "    dg = df[df[ciudad].notna()]\n",
    "    x = np.array((dg['fecha'] -  dg['fecha'].iloc[0]).dt.days)\n",
    "    y = np.array(dg[ciudad])\n",
    "    regr.fit(x[1:].reshape(-1, 1), y[1:].reshape(-1, 1))\n",
    "    regresion = regr.predict(x.astype(float).reshape(-1, 1))\n",
    "    slope_anual = regr.coef_[0][0]\n",
    "    score = regr.score(x.reshape(-1, 1), y.reshape(-1, 1))\n",
    "    corr, _ = pearsonr(x, y)\n",
    "    fig.add_trace((go.Scattergl(x=dg['fecha'].tolist(),y=list(regresion.ravel()), mode=\"lines\", name='Regresion Lineal', \n",
    "                   visible = False,line=dict(color=\"black\"))))\n",
    "    text = str('y = '+str(round(slope_anual,4))+'x + '+str(round(regr.intercept_[0],2)))\n",
    "    R2_text = str('R2 = '+str(round(score,4)))\n",
    "    if ciudad == 'santa_marta':\n",
    "        annotation_sm = [dict(x='2016', y=max(dg[ciudad])+15, text=text, showarrow=False, font=dict(size = 16))]\n",
    "        annotation_sm.append(dict(x='2016', y=max(dg[ciudad])-15, text=R2_text, showarrow=False, font=dict(size = 16)))\n",
    "    elif ciudad == 'cartagena':\n",
    "        annotation_c = [dict(x='2015', y=min(dg[ciudad])+15, text=text, showarrow=False, font=dict(size = 16))]        \n",
    "        annotation_c.append(dict(x='2016', y=min(dg[ciudad])-15, text=R2_text, showarrow=False, font=dict(size = 16)))\n",
    "        \n",
    "#Se configura la lista despegable \n",
    "fig.update_layout(updatemenus=[go.layout.Updatemenu(active=0, buttons=list(\n",
    "            [dict(label = 'estaciones', method = 'update',\n",
    "                  args = [{'visible': [True, True, False, False]},\n",
    "                          {'title': 'Tendencia del Nivel del Mar en Santa Marta y Cartagena', \n",
    "                           'showlegend':True, \"annotations\": []}]),\n",
    "             dict(label = 'cartagena', method = 'update',\n",
    "                  args = [{'visible': [True, False, True, False]}, # the index of True aligns with the indices of plot traces\n",
    "                          {'title': 'Tendencia del Nivel del Mar en Cartagena', \"annotations\": annotation_c,\n",
    "                           'showlegend':True}]),\n",
    "             dict(label = 'santa marta', method = 'update',\n",
    "                  args = [{'visible': [False, True, False, True]}, \n",
    "                          {'title': 'Tendencia del Nivel del Mar en Santa Marta', \"annotations\": annotation_sm,\n",
    "                           'showlegend':True}]),\n",
    "            ]), \n",
    "                    x=0.13, y = 1, yanchor=\"top\",\n",
    "        )\n",
    "    ])\n",
    "\n",
    "fig.show()"
   ]
  },
  {
   "cell_type": "code",
   "execution_count": 2,
   "metadata": {},
   "outputs": [
    {
     "data": {
      "text/html": [
       "<script>\n",
       "code_show=true; \n",
       "function code_toggle() {\n",
       " if (code_show){\n",
       " $('div.input').hide();\n",
       " } else {\n",
       " $('div.input').show();\n",
       " }\n",
       " code_show = !code_show\n",
       "} \n",
       "$( document ).ready(code_toggle);\n",
       "</script>\n",
       "El código de este cuaderno IPython está oculto de forma predeterminada para facilitar la lectura.\n",
       "Para activar / desactivar el código sin formato, haga clic <a href=\"javascript:code_toggle()\">aqui</a>."
      ],
      "text/plain": [
       "<IPython.core.display.HTML object>"
      ]
     },
     "execution_count": 2,
     "metadata": {},
     "output_type": "execute_result"
    }
   ],
   "source": [
    "from IPython.display import HTML\n",
    "HTML('''<script>\n",
    "code_show=true; \n",
    "function code_toggle() {\n",
    " if (code_show){\n",
    " $('div.input').hide();\n",
    " } else {\n",
    " $('div.input').show();\n",
    " }\n",
    " code_show = !code_show\n",
    "} \n",
    "$( document ).ready(code_toggle);\n",
    "</script>\n",
    "El código de este cuaderno IPython está oculto de forma predeterminada para facilitar la lectura.\n",
    "Para activar / desactivar el código sin formato, haga clic <a href=\"javascript:code_toggle()\">aqui</a>.''')"
   ]
  },
  {
   "cell_type": "code",
   "execution_count": null,
   "metadata": {},
   "outputs": [],
   "source": []
  }
 ],
 "metadata": {
  "celltoolbar": "Edit Metadata",
  "kernelspec": {
   "display_name": "Python_3.6",
   "language": "python",
   "name": "python_3.6"
  },
  "language_info": {
   "codemirror_mode": {
    "name": "ipython",
    "version": 3
   },
   "file_extension": ".py",
   "mimetype": "text/x-python",
   "name": "python",
   "nbconvert_exporter": "python",
   "pygments_lexer": "ipython3",
   "version": "3.6.13"
  }
 },
 "nbformat": 4,
 "nbformat_minor": 4
}
