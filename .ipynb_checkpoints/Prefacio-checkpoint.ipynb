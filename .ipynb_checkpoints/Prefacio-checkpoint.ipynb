{
 "cells": [
  {
   "cell_type": "markdown",
   "metadata": {},
   "source": [
    "# Prefacio"
   ]
  },
  {
   "cell_type": "markdown",
   "metadata": {},
   "source": [
    "## 1. ¿Que es VENICE?\n",
    "![title](Estructura_VENICE.png)"
   ]
  },
  {
   "cell_type": "markdown",
   "metadata": {},
   "source": [
    "Este es un ***Visualizador para la Enseñanza Interactiva del Cambio Climático en Escuelas*** que ilustra el Cambio Climático en los departamentos de Santander y Magdalena (Colombia) por medio de tres variables climáticas: *Temperatura Media* del Aire a 2 metros, *Precipitación Total* y *Nivel Medio del Mar*. \n",
    "\n",
    "Esto se realiza en un libro interactivo que se ejecuta en Jupyter Notebook, el cual no requiere conexión a internet para su uso."
   ]
  },
  {
   "cell_type": "markdown",
   "metadata": {},
   "source": [
    "## 2. ¿Cuales son los objetivos de VENICE?\n",
    "\n",
    "Este proyecto busca principalmente **generar conciencia sobre el Cambio Climático** en estudiantes de colegios  a través de gráficos interáctivos. En general, se tienen los siguientes objetivos:\n",
    "\n",
    "1. Ilustrar el Cambio Climático en distintas regiones de Colombia.\n",
    "2. Brindar una herramienta que pueda ser usada sin conexión a internet.\n",
    "3. Primer contacto de estudiantes con ciencia de datos climáticos (en Python). "
   ]
  },
  {
   "cell_type": "markdown",
   "metadata": {},
   "source": [
    "## 3. ¿De donde provienen los datos?"
   ]
  },
  {
   "cell_type": "markdown",
   "metadata": {},
   "source": [
    "![title](Fuentes_Datos.png)\n",
    "\n",
    "Los datos se obtuvieron  por medio de estaciones meteorológicas del IDEAM, para la Temperatura y Precipitación, y mareógrafos del Sea Level Center de la Universidad de Hawaii y Dirección General Marítima (DIMAR), para el Nivel del Mar.\n",
    "+ IDEAM (Dhime) = http://dhime.ideam.gov.co/atencionciudadano/\n",
    "+ Universidad de Hawaii (UHSLC) = http://uhslc.soest.hawaii.edu/data/?rq "
   ]
  },
  {
   "cell_type": "markdown",
   "metadata": {},
   "source": [
    "## 4. ¿Como se ilustra el Cambio Climático?\n",
    "Esto se realiza por medio de **Graficos de Tendencias** y **Mapas Climáticos** sobre periodos comparables de tiempo."
   ]
  },
  {
   "cell_type": "markdown",
   "metadata": {},
   "source": [
    "### 4.1. Gráfico de Tendencias\n",
    "Estos muestran la tendencia de una variable a lo largo del tiempo. Por ejemplo, la siguiente gráfica, realizada por Instituto Goddard de Estudios Espaciales (GISS) de la NASA, muestra datos de **Anomalía de Temperatura Global en el periodo 1880-2020**.\n",
    "![title](Linea_Tendencia.png)"
   ]
  },
  {
   "cell_type": "markdown",
   "metadata": {},
   "source": [
    "### 4.2. Mapas Climáticos\n",
    "Estos se usan para representar la distribución de una variabe climática (tal como temperatura, precipitación, etc.) en una región definida. Por ejemplo, a continuación se muestra datos de la **Diferencia de Temperatura en 2020 respecto a 1980** a nivel mundial realizada por el Estudio Científico de Visualización de la NASA.\n",
    "\n",
    "![title](Mapa.png)"
   ]
  },
  {
   "cell_type": "code",
   "execution_count": null,
   "metadata": {},
   "outputs": [],
   "source": []
  }
 ],
 "metadata": {
  "kernelspec": {
   "display_name": "Python_3.6",
   "language": "python",
   "name": "python_3.6"
  },
  "language_info": {
   "codemirror_mode": {
    "name": "ipython",
    "version": 3
   },
   "file_extension": ".py",
   "mimetype": "text/x-python",
   "name": "python",
   "nbconvert_exporter": "python",
   "pygments_lexer": "ipython3",
   "version": "3.6.12"
  }
 },
 "nbformat": 4,
 "nbformat_minor": 4
}
