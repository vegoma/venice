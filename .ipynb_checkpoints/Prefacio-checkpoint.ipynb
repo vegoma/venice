{
 "cells": [
  {
   "cell_type": "markdown",
   "metadata": {},
   "source": [
    "# Prefacio"
   ]
  },
  {
   "cell_type": "markdown",
   "metadata": {},
   "source": [
    "## ¿Que es VENICE?\n",
    "#### VENICE es un proyecto para la enseñanza interáctiva del Cambio Climático por medio de gráficos y mapas que ilustra tres variables climáticas:\n",
    "+ Temperatura Media del Aire a 2 metros\n",
    "+ Precipitación Total\n",
    "+ Nivel Medio del Mar\n",
    "\n",
    "#### Los datos se obtuvieron  por medio de estaciones meteorológicas del IDEAM, para la Temperatura y Precipitación, y mareógrafos del Sea Level Center de la Universidad de Hawaii, para el Nivel del Mar.\n",
    "+ dhime = http://dhime.ideam.gov.co/atencionciudadano/\n",
    "+ UHSLC = http://uhslc.soest.hawaii.edu/data/?rq "
   ]
  },
  {
   "cell_type": "code",
   "execution_count": null,
   "metadata": {},
   "outputs": [],
   "source": []
  }
 ],
 "metadata": {
  "kernelspec": {
   "display_name": "Python_3.6",
   "language": "python",
   "name": "python_3.6"
  },
  "language_info": {
   "codemirror_mode": {
    "name": "ipython",
    "version": 3
   },
   "file_extension": ".py",
   "mimetype": "text/x-python",
   "name": "python",
   "nbconvert_exporter": "python",
   "pygments_lexer": "ipython3",
   "version": "3.6.12"
  }
 },
 "nbformat": 4,
 "nbformat_minor": 4
}
