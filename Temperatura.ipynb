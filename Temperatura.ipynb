{
 "cells": [
  {
   "cell_type": "markdown",
   "metadata": {},
   "source": [
    "# Temperatura"
   ]
  },
  {
   "cell_type": "markdown",
   "metadata": {},
   "source": [
    "Para ver el concepto de Temperatura y Cambio Climático revise la [Introduccion](Introduction.ipynb).\n",
    "+ Mapas de Temperatura Media de años recientes de cada departamento.\n",
    "+ Gráfico de Tendencia de la Temperatura Promedio de Colombia."
   ]
  },
  {
   "cell_type": "markdown",
   "metadata": {},
   "source": [
    "## Mapas de Temperatura Media"
   ]
  },
  {
   "cell_type": "code",
   "execution_count": 7,
   "metadata": {},
   "outputs": [],
   "source": [
    "#Se descargan las librerias necesarias \n",
    "import matplotlib.pyplot as plt\n",
    "import numpy as np\n",
    "import pandas as pd\n",
    "import cartopy as cart\n",
    "import scipy.stats #Metodos estadisticos\n",
    "import matplotlib.colors as colors #Set Colors\n",
    "import wradlib.ipol as ipol #Metodo de Interpolación\n",
    "\n",
    "# El metodo para aplicar gradiente vertical de temperatura\n",
    "def regresion(zi, altitude, nivel, coeficiente):\n",
    "    temperature = []\n",
    "    for ZI_item, altitude_item in zip(zi, altitude):\n",
    "        if str(nivel) == 'altura_base':\n",
    "            ZI_item = ZI_item - coeficiente*altitude_item\n",
    "        elif str(nivel) == 'altura_real': \n",
    "            ZI_item = ZI_item + coeficiente*altitude_item\n",
    "        #agregar elemento dentro de temperatura\n",
    "        temperature.append(ZI_item)\n",
    "    #se devuelve el valor de temperatura \n",
    "    return temperature \n",
    "\n",
    "class Mapa:  \n",
    "    # El metodo inicial o constructor\n",
    "    def __init__(self, departamento, year, mes, tipo, bol):\n",
    "     \n",
    "        # Instance Variable    \n",
    "        self.departamento = departamento\n",
    "        self.year = year\n",
    "        self.mes = mes\n",
    "        self.tipo = tipo\n",
    "        self.normal = '1981-2010'\n",
    "        self.bol = bol\n",
    "        \n",
    "    # El metodo para contruir mapas     \n",
    "    def get_mapa(self, ax, periodo):\n",
    "        \n",
    "        #Se define la extensión del mapa\n",
    "        if str(self.departamento) == 'Santander':\n",
    "            lllat, urlat, lllon, urlon = 5.5, 8.5, -75, -72\n",
    "            names = ['Bucaramanga','Piedecuesta','San Gil', 'Surata', 'Berlin']\n",
    "            lon_m = [-73.1198, -73.0495, -73.133, -72.983, -72.8833]\n",
    "            lat_m = [7.11392, 6.98743, 6.55, 7.367, 7.18333]\n",
    "            idx_values = [66020, 60778, 43268, 76185, 68498]\n",
    "            \n",
    "        elif str(self.departamento) == 'Magdalena':\n",
    "            lllat, urlat, lllon, urlon = 8.7, 11.5, -75.55, -73\n",
    "            names = ['Santa Marta','Aracataca','Plato','El Banco']\n",
    "            lon_m = [-74.22200, -74.18983, -74.78244, -73.97581]\n",
    "            lat_m = [11.23500, 10.59181, 9.79029, 9.00114]\n",
    "            idx_values = [110783,82787,47706,13166]\n",
    "    \n",
    "        #Se establece instancia de Cartopy    \n",
    "        ax.set_extent([lllon, urlon, lllat, urlat], crs=cart.crs.PlateCarree())\n",
    "        ax.add_feature(cart.feature.OCEAN, edgecolor='k', zorder = 2)#, facecolor = 'white')\n",
    "    \n",
    "        #Se dibujan los departamentos de Colombia\n",
    "        fname = r\".\\DIVISION_COLOMBIA\\MGN_DPTO_POLITICO.shp\"\n",
    "        adm1_shapes = list(cart.io.shapereader.Reader(fname).geometries())\n",
    "        ax.add_geometries(adm1_shapes, cart.crs.PlateCarree(), edgecolor='black', facecolor='none', alpha=0.5)\n",
    "                    \n",
    "        #Se cargan los datos de las estaciones    \n",
    "        df = pd.read_csv(str(r\".\\Datos\\Temperatura\\Temperatura_\"+str(periodo)+\".csv\"))\n",
    "\n",
    "        #Se seleccionan las estaciones que se ubiquen en el area del mapa \n",
    "        data = df.loc[(df['LONGITUD'] < urlon) & (df['LONGITUD'] > lllon)\n",
    "                  & (df['LATITUD'] < urlat) & (df['LATITUD'] > lllat)]\n",
    "\n",
    "        #Se remueven filas de dataframe que no contienen valores para el mes especifico\n",
    "        data = data.dropna(subset=[str(self.mes)])\n",
    "\n",
    "        #Se extrae los valores de coordenadas, altura y valor de cada estacion\n",
    "        longitud = data['LONGITUD'].tolist()\n",
    "        latitud = data['LATITUD'].tolist()\n",
    "        elevacion = data['ELEVACION'].tolist()\n",
    "        valor = data[str(self.mes)].tolist()\n",
    "        src = np.vstack( (np.array(longitud), np.array(latitud)) ).transpose()\n",
    "\n",
    "        #Se crea una grilla 300x300\n",
    "        numcols, numrows = 350, 350\n",
    "        xtrg = np.linspace(lllon, urlon, numcols)\n",
    "        ytrg = np.linspace(lllat, urlat, numrows)\n",
    "        trg = np.meshgrid(xtrg, ytrg)\n",
    "        trg = np.vstack( (trg[0].ravel(), trg[1].ravel()) ).T\n",
    "\n",
    "        #Se calcula el coeficiente de regresión entre altura y temperatura a partir de los datos de las estaciones \n",
    "        result = scipy.stats.linregress(np.array(elevacion), np.array(valor))\n",
    "        coeficiente, r = result.slope, result.rvalue \n",
    "        if self.departamento == 'Magdalena' and r > -0.46:\n",
    "            dg = pd.read_csv(str(r\".\\Regresion de Elevacion\\Regresion_Temperatura_Magdalena_2018.csv\"))\n",
    "            coeficiente = dg[str(self.mes)][0] \n",
    "        z = regresion(valor, elevacion, \"altura_base\", coeficiente)\n",
    "        \n",
    "        #Se aplica el método de interpolación IDW (Inverse Distance Weighting)\n",
    "        idw = ipol.Idw(src, trg)\n",
    "        zi = idw(np.array(z))\n",
    "\n",
    "        #Regresion a la altura Real\n",
    "        data_hh = pd.read_csv(str(r\".\\Regresion de Elevacion\\Elevacion_\"+str(self.departamento)+\".csv\"))\n",
    "        altitude = np.array(data_hh[\"Elevacion\"].tolist())\n",
    "        ZI = np.array(regresion(zi, altitude, \"altura_real\",coeficiente))\n",
    "        \n",
    "        #Se dibujan municipios mas importantes y sus respectivos valores\n",
    "        ax.scatter(lon_m, lat_m, color = 'black', zorder = 3)\n",
    "        for i, txt in enumerate(names):\n",
    "            ax.annotate(txt, xy = (lon_m[i]-0.05, lat_m[i]), ha = 'right', va = 'center')\n",
    "            if (self.bol == True and str(self.tipo) != \"Anomalia\") or (self.bol == True and str(periodo) == \"1981-2010\"):\n",
    "                ax.annotate(round(ZI[idx_values[i]],2), xy = (lon_m[i]+0.1, lat_m[i]-0.04), bbox=dict(fc=\"w\", ec=\"k\",\n",
    "                            boxstyle=\"round4,pad=0.3\"), ha = 'left', va = 'center')\n",
    "\n",
    "        if str(periodo) == \"1981-2010\":\n",
    "            self.ZI, self.x, self.y = ZI, xtrg, ytrg\n",
    "        elif str(periodo) != \"1981-2010\" and str(self.tipo) == \"Anomalia\":\n",
    "            return ZI, ax\n",
    "        \n",
    "        #Se dibuja los valores en el mapa\n",
    "        cmap = plt.get_cmap('jet',38)\n",
    "        con = plt.pcolormesh(xtrg, ytrg, ZI.reshape( (numcols, numrows) ), transform=cart.crs.PlateCarree(), alpha=0.6, cmap = cmap, vmin = 0, vmax = 38)\n",
    "\n",
    "        #Se dibuja la grafica de colores\n",
    "        cbar = plt.colorbar(con, orientation='horizontal',fraction=.042, pad=0.03)   \n",
    "        cbar.set_label('[°C]',fontsize=11)\n",
    "                            \n",
    "    def plot_mapas(self):\n",
    "        # Se define el tamaño del cuadro \n",
    "        plt.figure(figsize=(12.4, 9.4))\n",
    "\n",
    "        # Tabla 1x3 y dibujaremos en la celda 1\n",
    "        ax = plt.subplot(1, 2, 1, projection=cart.crs.PlateCarree())\n",
    "        ax.set_title('Normal Climatologica Temperatura (1981-2010)',fontdict = {'fontsize':13})\n",
    "        self.get_mapa(ax,self.normal)        \n",
    "        normal, x, y = self.ZI, self.x, self.y\n",
    "\n",
    "        # Tabla 1x3 y dibujaremos en la celda 2\n",
    "        ax = plt.subplot(1, 2, 2, projection=cart.crs.PlateCarree()) \n",
    "        ax.set_title('Temperatura Media '+str(self.year),fontdict = {'fontsize':13})    \n",
    "    \n",
    "        #Se obtiene el mapa de Anomalia de Temperatura\n",
    "        if str(self.tipo) == 'Anomalia':\n",
    "            actual, ax = self.get_mapa(ax,self.year) \n",
    "            anomalia = np.subtract(actual,normal)\n",
    "            cmap = colors.ListedColormap([\"#0000ff\",\"#0170fe\",\"#00c5ff\",\"#bee8ff\",\"#fefffe\",\"#ffebaf\",\"#ffd37f\",\"#feab00\",\"#fe5501\"])\n",
    "            levels = [-5.0, -2.0, -1.5, -1.0, -0.5, 0.5, 1.0, 1.5, 2.0, 5.0]\n",
    "            norm = colors.BoundaryNorm(levels, cmap.N)\n",
    "            con = plt.pcolormesh(x,y,anomalia.reshape( (350, 350) ), transform=cart.crs.PlateCarree(), alpha=0.6, cmap = cmap, norm = norm)\n",
    "            cbar = plt.colorbar(con, orientation='horizontal',fraction=.042, pad=0.03)\n",
    "            ax.set_title('Anomalia de Temperatura Media '+str(self.year),fontdict = {'fontsize':13})\n",
    "            cbar.set_label('[°C]',fontsize=11)\n",
    "        else:\n",
    "            self.get_mapa(ax,self.year)\n",
    "    \n",
    "        # Dibujamos el conjunto\n",
    "        plt.show()"
   ]
  },
  {
   "cell_type": "code",
   "execution_count": 8,
   "metadata": {
    "scrolled": false
   },
   "outputs": [
    {
     "data": {
      "image/png": "[encoded data removed]",
      "text/plain": [
       "<Figure size 892.8x676.8 with 4 Axes>"
      ]
     },
     "metadata": {
      "needs_background": "light"
     },
     "output_type": "display_data"
    },
    {
     "data": {
      "application/vnd.jupyter.widget-view+json": {
       "model_id": "40fc8b21ad6c4e769b8e6fc7cac1cfc7",
       "version_major": 2,
       "version_minor": 0
      },
      "text/plain": [
       "HBox(children=(Dropdown(description='Mes:', options=(('Enero', 'ENE'), ('Febrero', 'FEB'), ('Marzo', 'MAR'), (…"
      ]
     },
     "metadata": {},
     "output_type": "display_data"
    },
    {
     "data": {
      "application/vnd.jupyter.widget-view+json": {
       "model_id": "f1b6830011b142199ce72bb10b48b618",
       "version_major": 2,
       "version_minor": 0
      },
      "text/plain": [
       "Output()"
      ]
     },
     "metadata": {},
     "output_type": "display_data"
    }
   ],
   "source": [
    "import ipywidgets as widgets\n",
    "import time\n",
    "\n",
    "a = widgets.Dropdown(options=[('Enero', 'ENE'), ('Febrero', 'FEB'), ('Marzo', 'MAR'), ('Abril', 'ABR'), ('Mayo', 'MAY'),\n",
    "                             ('Junio', 'JUN'), ('Julio', 'JUL'), ('Agosto', 'AGO'), ('Septiembre', 'SEP'),\n",
    "                             ('Octubre', 'OCT'), ('Noviembre', 'NOV'), ('Diciembre', 'DIC')], description='Mes:')\n",
    "b = widgets.Dropdown(options=[2011,2012,2013,2014,2015,2016,2017,2018,2019,2020,2021], description='Año:')\n",
    "c = widgets.Dropdown(options=['Magdalena', 'Santander'], description='Dep:')\n",
    "d = widgets.Dropdown(options=[('Anomalía', 'Anomalia'),   ('Valor Absoluto', 'Absoluto')], description='Tipo:')\n",
    "e = widgets.Checkbox(value=False,description='Ver Valores',disabled=False,indent=False)\n",
    "ui = widgets.HBox([a, b, c, d, e])\n",
    "def f(a, b, c, d, e):\n",
    "    start_time = time.time()\n",
    "    if b == 2021 and a != 'ENE' and a != 'FEB' and a != 'MAR':\n",
    "        print('No hay todavía gráficos para la información especificada.')\n",
    "    else:    \n",
    "        m = Mapa(c,b,a,d,e)\n",
    "        m.plot_mapas()\n",
    "    #print(\"--- %s seconds ---\" % (time.time() - start_time))\n",
    "\n",
    "out = widgets.interactive_output(f, {'a': a, 'b': b, 'c': c, 'd': d, 'e': e})\n",
    "\n",
    "display(ui, out)"
   ]
  },
  {
   "cell_type": "markdown",
   "metadata": {},
   "source": [
    "## Gráfico de Tendencia Nacional"
   ]
  },
  {
   "cell_type": "code",
   "execution_count": 9,
   "metadata": {
    "scrolled": false
   },
   "outputs": [
    {
     "data": {
      "application/vnd.plotly.v1+json": {
       "config": {
        "plotlyServerURL": "https://plot.ly"
       },
       "data": [
        {
         "legendgroup": "Normal Climatica (1980-2010)",
         "line": {
          "color": "#636efa",
          "dash": "solid"
         },
         "mode": "markers+lines",
         "name": "Normal Climatica (1980-2010)",
         "orientation": "v",
         "showlegend": true,
         "type": "scatter",
         "x": [
          "1984-01-01T00:00:00",
          "1985-01-01T00:00:00",
          "1986-01-01T00:00:00",
          "1987-01-01T00:00:00",
          "1988-01-01T00:00:00",
          "1989-01-01T00:00:00",
          "1990-01-01T00:00:00",
          "1991-01-01T00:00:00",
          "1992-01-01T00:00:00",
          "1993-01-01T00:00:00",
          "1994-01-01T00:00:00",
          "1995-01-01T00:00:00",
          "1996-01-01T00:00:00",
          "1997-01-01T00:00:00",
          "1998-01-01T00:00:00",
          "1999-01-01T00:00:00",
          "2000-01-01T00:00:00",
          "2001-01-01T00:00:00",
          "2002-01-01T00:00:00",
          "2003-01-01T00:00:00",
          "2004-01-01T00:00:00",
          "2005-01-01T00:00:00",
          "2006-01-01T00:00:00",
          "2007-01-01T00:00:00",
          "2008-01-01T00:00:00",
          "2009-01-01T00:00:00",
          "2010-01-01T00:00:00",
          "2011-01-01T00:00:00",
          "2012-01-01T00:00:00",
          "2013-01-01T00:00:00",
          "2014-01-01T00:00:00",
          "2015-01-01T00:00:00",
          "2016-01-01T00:00:00",
          "2017-01-01T00:00:00",
          "2018-01-01T00:00:00",
          "2019-01-01T00:00:00",
          "2020-01-01T00:00:00"
         ],
         "xaxis": "x",
         "y": [
          22.46587896,
          22.46587896,
          22.46587896,
          22.46587896,
          22.46587896,
          22.46587896,
          22.46587896,
          22.46587896,
          22.46587896,
          22.46587896,
          22.46587896,
          22.46587896,
          22.46587896,
          22.46587896,
          22.46587896,
          22.46587896,
          22.46587896,
          22.46587896,
          22.46587896,
          22.46587896,
          22.46587896,
          22.46587896,
          22.46587896,
          22.46587896,
          22.46587896,
          22.46587896,
          22.46587896,
          22.46587896,
          22.46587896,
          22.46587896,
          22.46587896,
          22.46587896,
          22.46587896,
          22.46587896,
          22.46587896,
          22.46587896,
          22.46587896
         ],
         "yaxis": "y"
        },
        {
         "legendgroup": "Temperatura del Aire",
         "line": {
          "color": "#EF553B",
          "dash": "solid"
         },
         "mode": "markers+lines",
         "name": "Temperatura del Aire",
         "orientation": "v",
         "showlegend": true,
         "type": "scatter",
         "x": [
          "1984-01-01T00:00:00",
          "1985-01-01T00:00:00",
          "1986-01-01T00:00:00",
          "1987-01-01T00:00:00",
          "1988-01-01T00:00:00",
          "1989-01-01T00:00:00",
          "1990-01-01T00:00:00",
          "1991-01-01T00:00:00",
          "1992-01-01T00:00:00",
          "1993-01-01T00:00:00",
          "1994-01-01T00:00:00",
          "1995-01-01T00:00:00",
          "1996-01-01T00:00:00",
          "1997-01-01T00:00:00",
          "1998-01-01T00:00:00",
          "1999-01-01T00:00:00",
          "2000-01-01T00:00:00",
          "2001-01-01T00:00:00",
          "2002-01-01T00:00:00",
          "2003-01-01T00:00:00",
          "2004-01-01T00:00:00",
          "2005-01-01T00:00:00",
          "2006-01-01T00:00:00",
          "2007-01-01T00:00:00",
          "2008-01-01T00:00:00",
          "2009-01-01T00:00:00",
          "2010-01-01T00:00:00",
          "2011-01-01T00:00:00",
          "2012-01-01T00:00:00",
          "2013-01-01T00:00:00",
          "2014-01-01T00:00:00",
          "2015-01-01T00:00:00",
          "2016-01-01T00:00:00",
          "2017-01-01T00:00:00",
          "2018-01-01T00:00:00",
          "2019-01-01T00:00:00",
          "2020-01-01T00:00:00"
         ],
         "xaxis": "x",
         "y": [
          22.21021986,
          22.24362902,
          22.25354322,
          22.3370871,
          22.32408841,
          22.30022004,
          22.324944199999997,
          22.3470115,
          22.39876663,
          22.38252983,
          22.42432789,
          22.45287942,
          22.43210529,
          22.50987156,
          22.55672725,
          22.53631504,
          22.52905464,
          22.54678376,
          22.57688008,
          22.59641229,
          22.61057008,
          22.62830207,
          22.63861459,
          22.64824043,
          22.6431014,
          22.66062734,
          22.67518989,
          22.67301487,
          22.67556053,
          22.69503721,
          22.714848800000002,
          22.74908524,
          22.77096491,
          22.77933792,
          22.78584344,
          22.80177765,
          22.81610287
         ],
         "yaxis": "y"
        },
        {
         "legendgroup": "group",
         "line": {
          "color": "orange"
         },
         "mode": "lines",
         "name": "Regresion Lineal",
         "type": "scatter",
         "visible": "legendonly",
         "x": [
          "1984-01-01T00:00:00",
          "1985-01-01T00:00:00",
          "1986-01-01T00:00:00",
          "1987-01-01T00:00:00",
          "1988-01-01T00:00:00",
          "1989-01-01T00:00:00",
          "1990-01-01T00:00:00",
          "1991-01-01T00:00:00",
          "1992-01-01T00:00:00",
          "1993-01-01T00:00:00",
          "1994-01-01T00:00:00",
          "1995-01-01T00:00:00",
          "1996-01-01T00:00:00",
          "1997-01-01T00:00:00",
          "1998-01-01T00:00:00",
          "1999-01-01T00:00:00",
          "2000-01-01T00:00:00",
          "2001-01-01T00:00:00",
          "2002-01-01T00:00:00",
          "2003-01-01T00:00:00",
          "2004-01-01T00:00:00",
          "2005-01-01T00:00:00",
          "2006-01-01T00:00:00",
          "2007-01-01T00:00:00",
          "2008-01-01T00:00:00",
          "2009-01-01T00:00:00",
          "2010-01-01T00:00:00",
          "2011-01-01T00:00:00",
          "2012-01-01T00:00:00",
          "2013-01-01T00:00:00",
          "2014-01-01T00:00:00",
          "2015-01-01T00:00:00",
          "2016-01-01T00:00:00",
          "2017-01-01T00:00:00",
          "2018-01-01T00:00:00",
          "2019-01-01T00:00:00",
          "2020-01-01T00:00:00"
         ],
         "y": [
          22.25812162042674,
          22.274186359637266,
          22.29025109884779,
          22.306315838058318,
          22.322380577268845,
          22.33844531647937,
          22.354510055689897,
          22.370574794900424,
          22.386639534110948,
          22.402704273321476,
          22.418769012532003,
          22.434833751742527,
          22.450898490953055,
          22.466963230163582,
          22.483027969374106,
          22.499092708584634,
          22.515157447795158,
          22.531222187005685,
          22.547286926216213,
          22.563351665426737,
          22.579416404637264,
          22.595481143847792,
          22.611545883058316,
          22.627610622268843,
          22.64367536147937,
          22.659740100689895,
          22.675804839900422,
          22.69186957911095,
          22.707934318321474,
          22.723999057532,
          22.74006379674253,
          22.756128535953053,
          22.77219327516358,
          22.788258014374108,
          22.804322753584632,
          22.82038749279516,
          22.836452232005687
         ]
        }
       ],
       "layout": {
        "hovermode": "x unified",
        "legend": {
         "title": {
          "text": "variable"
         },
         "tracegroupgap": 0
        },
        "margin": {
         "t": 60
        },
        "template": {
         "data": {
          "bar": [
           {
            "error_x": {
             "color": "#2a3f5f"
            },
            "error_y": {
             "color": "#2a3f5f"
            },
            "marker": {
             "line": {
              "color": "#E5ECF6",
              "width": 0.5
             }
            },
            "type": "bar"
           }
          ],
          "barpolar": [
           {
            "marker": {
             "line": {
              "color": "#E5ECF6",
              "width": 0.5
             }
            },
            "type": "barpolar"
           }
          ],
          "carpet": [
           {
            "aaxis": {
             "endlinecolor": "#2a3f5f",
             "gridcolor": "white",
             "linecolor": "white",
             "minorgridcolor": "white",
             "startlinecolor": "#2a3f5f"
            },
            "baxis": {
             "endlinecolor": "#2a3f5f",
             "gridcolor": "white",
             "linecolor": "white",
             "minorgridcolor": "white",
             "startlinecolor": "#2a3f5f"
            },
            "type": "carpet"
           }
          ],
          "choropleth": [
           {
            "colorbar": {
             "outlinewidth": 0,
             "ticks": ""
            },
            "type": "choropleth"
           }
          ],
          "contour": [
           {
            "colorbar": {
             "outlinewidth": 0,
             "ticks": ""
            },
            "colorscale": [
             [
              0,
              "#0d0887"
             ],
             [
              0.1111111111111111,
              "#46039f"
             ],
             [
              0.2222222222222222,
              "#7201a8"
             ],
             [
              0.3333333333333333,
              "#9c179e"
             ],
             [
              0.4444444444444444,
              "#bd3786"
             ],
             [
              0.5555555555555556,
              "#d8576b"
             ],
             [
              0.6666666666666666,
              "#ed7953"
             ],
             [
              0.7777777777777778,
              "#fb9f3a"
             ],
             [
              0.8888888888888888,
              "#fdca26"
             ],
             [
              1,
              "#f0f921"
             ]
            ],
            "type": "contour"
           }
          ],
          "contourcarpet": [
           {
            "colorbar": {
             "outlinewidth": 0,
             "ticks": ""
            },
            "type": "contourcarpet"
           }
          ],
          "heatmap": [
           {
            "colorbar": {
             "outlinewidth": 0,
             "ticks": ""
            },
            "colorscale": [
             [
              0,
              "#0d0887"
             ],
             [
              0.1111111111111111,
              "#46039f"
             ],
             [
              0.2222222222222222,
              "#7201a8"
             ],
             [
              0.3333333333333333,
              "#9c179e"
             ],
             [
              0.4444444444444444,
              "#bd3786"
             ],
             [
              0.5555555555555556,
              "#d8576b"
             ],
             [
              0.6666666666666666,
              "#ed7953"
             ],
             [
              0.7777777777777778,
              "#fb9f3a"
             ],
             [
              0.8888888888888888,
              "#fdca26"
             ],
             [
              1,
              "#f0f921"
             ]
            ],
            "type": "heatmap"
           }
          ],
          "heatmapgl": [
           {
            "colorbar": {
             "outlinewidth": 0,
             "ticks": ""
            },
            "colorscale": [
             [
              0,
              "#0d0887"
             ],
             [
              0.1111111111111111,
              "#46039f"
             ],
             [
              0.2222222222222222,
              "#7201a8"
             ],
             [
              0.3333333333333333,
              "#9c179e"
             ],
             [
              0.4444444444444444,
              "#bd3786"
             ],
             [
              0.5555555555555556,
              "#d8576b"
             ],
             [
              0.6666666666666666,
              "#ed7953"
             ],
             [
              0.7777777777777778,
              "#fb9f3a"
             ],
             [
              0.8888888888888888,
              "#fdca26"
             ],
             [
              1,
              "#f0f921"
             ]
            ],
            "type": "heatmapgl"
           }
          ],
          "histogram": [
           {
            "marker": {
             "colorbar": {
              "outlinewidth": 0,
              "ticks": ""
             }
            },
            "type": "histogram"
           }
          ],
          "histogram2d": [
           {
            "colorbar": {
             "outlinewidth": 0,
             "ticks": ""
            },
            "colorscale": [
             [
              0,
              "#0d0887"
             ],
             [
              0.1111111111111111,
              "#46039f"
             ],
             [
              0.2222222222222222,
              "#7201a8"
             ],
             [
              0.3333333333333333,
              "#9c179e"
             ],
             [
              0.4444444444444444,
              "#bd3786"
             ],
             [
              0.5555555555555556,
              "#d8576b"
             ],
             [
              0.6666666666666666,
              "#ed7953"
             ],
             [
              0.7777777777777778,
              "#fb9f3a"
             ],
             [
              0.8888888888888888,
              "#fdca26"
             ],
             [
              1,
              "#f0f921"
             ]
            ],
            "type": "histogram2d"
           }
          ],
          "histogram2dcontour": [
           {
            "colorbar": {
             "outlinewidth": 0,
             "ticks": ""
            },
            "colorscale": [
             [
              0,
              "#0d0887"
             ],
             [
              0.1111111111111111,
              "#46039f"
             ],
             [
              0.2222222222222222,
              "#7201a8"
             ],
             [
              0.3333333333333333,
              "#9c179e"
             ],
             [
              0.4444444444444444,
              "#bd3786"
             ],
             [
              0.5555555555555556,
              "#d8576b"
             ],
             [
              0.6666666666666666,
              "#ed7953"
             ],
             [
              0.7777777777777778,
              "#fb9f3a"
             ],
             [
              0.8888888888888888,
              "#fdca26"
             ],
             [
              1,
              "#f0f921"
             ]
            ],
            "type": "histogram2dcontour"
           }
          ],
          "mesh3d": [
           {
            "colorbar": {
             "outlinewidth": 0,
             "ticks": ""
            },
            "type": "mesh3d"
           }
          ],
          "parcoords": [
           {
            "line": {
             "colorbar": {
              "outlinewidth": 0,
              "ticks": ""
             }
            },
            "type": "parcoords"
           }
          ],
          "pie": [
           {
            "automargin": true,
            "type": "pie"
           }
          ],
          "scatter": [
           {
            "marker": {
             "colorbar": {
              "outlinewidth": 0,
              "ticks": ""
             }
            },
            "type": "scatter"
           }
          ],
          "scatter3d": [
           {
            "line": {
             "colorbar": {
              "outlinewidth": 0,
              "ticks": ""
             }
            },
            "marker": {
             "colorbar": {
              "outlinewidth": 0,
              "ticks": ""
             }
            },
            "type": "scatter3d"
           }
          ],
          "scattercarpet": [
           {
            "marker": {
             "colorbar": {
              "outlinewidth": 0,
              "ticks": ""
             }
            },
            "type": "scattercarpet"
           }
          ],
          "scattergeo": [
           {
            "marker": {
             "colorbar": {
              "outlinewidth": 0,
              "ticks": ""
             }
            },
            "type": "scattergeo"
           }
          ],
          "scattergl": [
           {
            "marker": {
             "colorbar": {
              "outlinewidth": 0,
              "ticks": ""
             }
            },
            "type": "scattergl"
           }
          ],
          "scattermapbox": [
           {
            "marker": {
             "colorbar": {
              "outlinewidth": 0,
              "ticks": ""
             }
            },
            "type": "scattermapbox"
           }
          ],
          "scatterpolar": [
           {
            "marker": {
             "colorbar": {
              "outlinewidth": 0,
              "ticks": ""
             }
            },
            "type": "scatterpolar"
           }
          ],
          "scatterpolargl": [
           {
            "marker": {
             "colorbar": {
              "outlinewidth": 0,
              "ticks": ""
             }
            },
            "type": "scatterpolargl"
           }
          ],
          "scatterternary": [
           {
            "marker": {
             "colorbar": {
              "outlinewidth": 0,
              "ticks": ""
             }
            },
            "type": "scatterternary"
           }
          ],
          "surface": [
           {
            "colorbar": {
             "outlinewidth": 0,
             "ticks": ""
            },
            "colorscale": [
             [
              0,
              "#0d0887"
             ],
             [
              0.1111111111111111,
              "#46039f"
             ],
             [
              0.2222222222222222,
              "#7201a8"
             ],
             [
              0.3333333333333333,
              "#9c179e"
             ],
             [
              0.4444444444444444,
              "#bd3786"
             ],
             [
              0.5555555555555556,
              "#d8576b"
             ],
             [
              0.6666666666666666,
              "#ed7953"
             ],
             [
              0.7777777777777778,
              "#fb9f3a"
             ],
             [
              0.8888888888888888,
              "#fdca26"
             ],
             [
              1,
              "#f0f921"
             ]
            ],
            "type": "surface"
           }
          ],
          "table": [
           {
            "cells": {
             "fill": {
              "color": "#EBF0F8"
             },
             "line": {
              "color": "white"
             }
            },
            "header": {
             "fill": {
              "color": "#C8D4E3"
             },
             "line": {
              "color": "white"
             }
            },
            "type": "table"
           }
          ]
         },
         "layout": {
          "annotationdefaults": {
           "arrowcolor": "#2a3f5f",
           "arrowhead": 0,
           "arrowwidth": 1
          },
          "autotypenumbers": "strict",
          "coloraxis": {
           "colorbar": {
            "outlinewidth": 0,
            "ticks": ""
           }
          },
          "colorscale": {
           "diverging": [
            [
             0,
             "#8e0152"
            ],
            [
             0.1,
             "#c51b7d"
            ],
            [
             0.2,
             "#de77ae"
            ],
            [
             0.3,
             "#f1b6da"
            ],
            [
             0.4,
             "#fde0ef"
            ],
            [
             0.5,
             "#f7f7f7"
            ],
            [
             0.6,
             "#e6f5d0"
            ],
            [
             0.7,
             "#b8e186"
            ],
            [
             0.8,
             "#7fbc41"
            ],
            [
             0.9,
             "#4d9221"
            ],
            [
             1,
             "#276419"
            ]
           ],
           "sequential": [
            [
             0,
             "#0d0887"
            ],
            [
             0.1111111111111111,
             "#46039f"
            ],
            [
             0.2222222222222222,
             "#7201a8"
            ],
            [
             0.3333333333333333,
             "#9c179e"
            ],
            [
             0.4444444444444444,
             "#bd3786"
            ],
            [
             0.5555555555555556,
             "#d8576b"
            ],
            [
             0.6666666666666666,
             "#ed7953"
            ],
            [
             0.7777777777777778,
             "#fb9f3a"
            ],
            [
             0.8888888888888888,
             "#fdca26"
            ],
            [
             1,
             "#f0f921"
            ]
           ],
           "sequentialminus": [
            [
             0,
             "#0d0887"
            ],
            [
             0.1111111111111111,
             "#46039f"
            ],
            [
             0.2222222222222222,
             "#7201a8"
            ],
            [
             0.3333333333333333,
             "#9c179e"
            ],
            [
             0.4444444444444444,
             "#bd3786"
            ],
            [
             0.5555555555555556,
             "#d8576b"
            ],
            [
             0.6666666666666666,
             "#ed7953"
            ],
            [
             0.7777777777777778,
             "#fb9f3a"
            ],
            [
             0.8888888888888888,
             "#fdca26"
            ],
            [
             1,
             "#f0f921"
            ]
           ]
          },
          "colorway": [
           "#636efa",
           "#EF553B",
           "#00cc96",
           "#ab63fa",
           "#FFA15A",
           "#19d3f3",
           "#FF6692",
           "#B6E880",
           "#FF97FF",
           "#FECB52"
          ],
          "font": {
           "color": "#2a3f5f"
          },
          "geo": {
           "bgcolor": "white",
           "lakecolor": "white",
           "landcolor": "#E5ECF6",
           "showlakes": true,
           "showland": true,
           "subunitcolor": "white"
          },
          "hoverlabel": {
           "align": "left"
          },
          "hovermode": "closest",
          "mapbox": {
           "style": "light"
          },
          "paper_bgcolor": "white",
          "plot_bgcolor": "#E5ECF6",
          "polar": {
           "angularaxis": {
            "gridcolor": "white",
            "linecolor": "white",
            "ticks": ""
           },
           "bgcolor": "#E5ECF6",
           "radialaxis": {
            "gridcolor": "white",
            "linecolor": "white",
            "ticks": ""
           }
          },
          "scene": {
           "xaxis": {
            "backgroundcolor": "#E5ECF6",
            "gridcolor": "white",
            "gridwidth": 2,
            "linecolor": "white",
            "showbackground": true,
            "ticks": "",
            "zerolinecolor": "white"
           },
           "yaxis": {
            "backgroundcolor": "#E5ECF6",
            "gridcolor": "white",
            "gridwidth": 2,
            "linecolor": "white",
            "showbackground": true,
            "ticks": "",
            "zerolinecolor": "white"
           },
           "zaxis": {
            "backgroundcolor": "#E5ECF6",
            "gridcolor": "white",
            "gridwidth": 2,
            "linecolor": "white",
            "showbackground": true,
            "ticks": "",
            "zerolinecolor": "white"
           }
          },
          "shapedefaults": {
           "line": {
            "color": "#2a3f5f"
           }
          },
          "ternary": {
           "aaxis": {
            "gridcolor": "white",
            "linecolor": "white",
            "ticks": ""
           },
           "baxis": {
            "gridcolor": "white",
            "linecolor": "white",
            "ticks": ""
           },
           "bgcolor": "#E5ECF6",
           "caxis": {
            "gridcolor": "white",
            "linecolor": "white",
            "ticks": ""
           }
          },
          "title": {
           "x": 0.05
          },
          "xaxis": {
           "automargin": true,
           "gridcolor": "white",
           "linecolor": "white",
           "ticks": "",
           "title": {
            "standoff": 15
           },
           "zerolinecolor": "white",
           "zerolinewidth": 2
          },
          "yaxis": {
           "automargin": true,
           "gridcolor": "white",
           "linecolor": "white",
           "ticks": "",
           "title": {
            "standoff": 15
           },
           "zerolinecolor": "white",
           "zerolinewidth": 2
          }
         }
        },
        "title": {
         "text": "Temperatura Media de Colombia 1984-2021",
         "x": 0.22
        },
        "updatemenus": [
         {
          "active": -1,
          "buttons": [
           {
            "args": [
             {
              "visible": [
               true,
               true,
               true,
               true
              ]
             },
             {
              "annotations": [
               {
                "font": {
                 "color": "darkorange",
                 "size": 14
                },
                "showarrow": false,
                "text": "y = 0.16x + 22.26 [°C/decada]",
                "x": "1995",
                "xref": "x",
                "y": 22.21021986,
                "yref": "y"
               }
              ]
             }
            ],
            "label": "Regresion:On",
            "method": "update"
           },
           {
            "args": [
             {
              "visible": [
               true,
               true,
               false,
               false
              ]
             },
             {
              "annotations": []
             }
            ],
            "label": "Regresion:Off",
            "method": "update"
           }
          ],
          "pad": {
           "r": 10,
           "t": 10
          },
          "showactive": true,
          "type": "buttons",
          "x": 1.04,
          "xanchor": "left",
          "y": 0.015,
          "yanchor": "bottom"
         }
        ],
        "xaxis": {
         "anchor": "y",
         "domain": [
          0,
          1
         ],
         "title": {
          "text": "Tiempo"
         }
        },
        "yaxis": {
         "anchor": "x",
         "domain": [
          0,
          1
         ],
         "title": {
          "text": "°C (Grado Centígrado)"
         }
        }
       }
      },
      "text/html": [
       "<div>                            <div id=\"a979ef80-b59a-44fe-b2d8-7c9f7954e942\" class=\"plotly-graph-div\" style=\"height:525px; width:100%;\"></div>            <script type=\"text/javascript\">                require([\"plotly\"], function(Plotly) {                    window.PLOTLYENV=window.PLOTLYENV || {};                                    if (document.getElementById(\"a979ef80-b59a-44fe-b2d8-7c9f7954e942\")) {                    Plotly.newPlot(                        \"a979ef80-b59a-44fe-b2d8-7c9f7954e942\",                        [{\"legendgroup\": \"Normal Climatica (1980-2010)\", \"line\": {\"color\": \"#636efa\", \"dash\": \"solid\"}, \"mode\": \"markers+lines\", \"name\": \"Normal Climatica (1980-2010)\", \"orientation\": \"v\", \"showlegend\": true, \"type\": \"scatter\", \"x\": [\"1984-01-01T00:00:00\", \"1985-01-01T00:00:00\", \"1986-01-01T00:00:00\", \"1987-01-01T00:00:00\", \"1988-01-01T00:00:00\", \"1989-01-01T00:00:00\", \"1990-01-01T00:00:00\", \"1991-01-01T00:00:00\", \"1992-01-01T00:00:00\", \"1993-01-01T00:00:00\", \"1994-01-01T00:00:00\", \"1995-01-01T00:00:00\", \"1996-01-01T00:00:00\", \"1997-01-01T00:00:00\", \"1998-01-01T00:00:00\", \"1999-01-01T00:00:00\", \"2000-01-01T00:00:00\", \"2001-01-01T00:00:00\", \"2002-01-01T00:00:00\", \"2003-01-01T00:00:00\", \"2004-01-01T00:00:00\", \"2005-01-01T00:00:00\", \"2006-01-01T00:00:00\", \"2007-01-01T00:00:00\", \"2008-01-01T00:00:00\", \"2009-01-01T00:00:00\", \"2010-01-01T00:00:00\", \"2011-01-01T00:00:00\", \"2012-01-01T00:00:00\", \"2013-01-01T00:00:00\", \"2014-01-01T00:00:00\", \"2015-01-01T00:00:00\", \"2016-01-01T00:00:00\", \"2017-01-01T00:00:00\", \"2018-01-01T00:00:00\", \"2019-01-01T00:00:00\", \"2020-01-01T00:00:00\"], \"xaxis\": \"x\", \"y\": [22.46587896, 22.46587896, 22.46587896, 22.46587896, 22.46587896, 22.46587896, 22.46587896, 22.46587896, 22.46587896, 22.46587896, 22.46587896, 22.46587896, 22.46587896, 22.46587896, 22.46587896, 22.46587896, 22.46587896, 22.46587896, 22.46587896, 22.46587896, 22.46587896, 22.46587896, 22.46587896, 22.46587896, 22.46587896, 22.46587896, 22.46587896, 22.46587896, 22.46587896, 22.46587896, 22.46587896, 22.46587896, 22.46587896, 22.46587896, 22.46587896, 22.46587896, 22.46587896], \"yaxis\": \"y\"}, {\"legendgroup\": \"Temperatura del Aire\", \"line\": {\"color\": \"#EF553B\", \"dash\": \"solid\"}, \"mode\": \"markers+lines\", \"name\": \"Temperatura del Aire\", \"orientation\": \"v\", \"showlegend\": true, \"type\": \"scatter\", \"x\": [\"1984-01-01T00:00:00\", \"1985-01-01T00:00:00\", \"1986-01-01T00:00:00\", \"1987-01-01T00:00:00\", \"1988-01-01T00:00:00\", \"1989-01-01T00:00:00\", \"1990-01-01T00:00:00\", \"1991-01-01T00:00:00\", \"1992-01-01T00:00:00\", \"1993-01-01T00:00:00\", \"1994-01-01T00:00:00\", \"1995-01-01T00:00:00\", \"1996-01-01T00:00:00\", \"1997-01-01T00:00:00\", \"1998-01-01T00:00:00\", \"1999-01-01T00:00:00\", \"2000-01-01T00:00:00\", \"2001-01-01T00:00:00\", \"2002-01-01T00:00:00\", \"2003-01-01T00:00:00\", \"2004-01-01T00:00:00\", \"2005-01-01T00:00:00\", \"2006-01-01T00:00:00\", \"2007-01-01T00:00:00\", \"2008-01-01T00:00:00\", \"2009-01-01T00:00:00\", \"2010-01-01T00:00:00\", \"2011-01-01T00:00:00\", \"2012-01-01T00:00:00\", \"2013-01-01T00:00:00\", \"2014-01-01T00:00:00\", \"2015-01-01T00:00:00\", \"2016-01-01T00:00:00\", \"2017-01-01T00:00:00\", \"2018-01-01T00:00:00\", \"2019-01-01T00:00:00\", \"2020-01-01T00:00:00\"], \"xaxis\": \"x\", \"y\": [22.21021986, 22.24362902, 22.25354322, 22.3370871, 22.32408841, 22.30022004, 22.324944199999997, 22.3470115, 22.39876663, 22.38252983, 22.42432789, 22.45287942, 22.43210529, 22.50987156, 22.55672725, 22.53631504, 22.52905464, 22.54678376, 22.57688008, 22.59641229, 22.61057008, 22.62830207, 22.63861459, 22.64824043, 22.6431014, 22.66062734, 22.67518989, 22.67301487, 22.67556053, 22.69503721, 22.714848800000002, 22.74908524, 22.77096491, 22.77933792, 22.78584344, 22.80177765, 22.81610287], \"yaxis\": \"y\"}, {\"legendgroup\": \"group\", \"line\": {\"color\": \"orange\"}, \"mode\": \"lines\", \"name\": \"Regresion Lineal\", \"type\": \"scatter\", \"visible\": \"legendonly\", \"x\": [\"1984-01-01T00:00:00\", \"1985-01-01T00:00:00\", \"1986-01-01T00:00:00\", \"1987-01-01T00:00:00\", \"1988-01-01T00:00:00\", \"1989-01-01T00:00:00\", \"1990-01-01T00:00:00\", \"1991-01-01T00:00:00\", \"1992-01-01T00:00:00\", \"1993-01-01T00:00:00\", \"1994-01-01T00:00:00\", \"1995-01-01T00:00:00\", \"1996-01-01T00:00:00\", \"1997-01-01T00:00:00\", \"1998-01-01T00:00:00\", \"1999-01-01T00:00:00\", \"2000-01-01T00:00:00\", \"2001-01-01T00:00:00\", \"2002-01-01T00:00:00\", \"2003-01-01T00:00:00\", \"2004-01-01T00:00:00\", \"2005-01-01T00:00:00\", \"2006-01-01T00:00:00\", \"2007-01-01T00:00:00\", \"2008-01-01T00:00:00\", \"2009-01-01T00:00:00\", \"2010-01-01T00:00:00\", \"2011-01-01T00:00:00\", \"2012-01-01T00:00:00\", \"2013-01-01T00:00:00\", \"2014-01-01T00:00:00\", \"2015-01-01T00:00:00\", \"2016-01-01T00:00:00\", \"2017-01-01T00:00:00\", \"2018-01-01T00:00:00\", \"2019-01-01T00:00:00\", \"2020-01-01T00:00:00\"], \"y\": [22.25812162042674, 22.274186359637266, 22.29025109884779, 22.306315838058318, 22.322380577268845, 22.33844531647937, 22.354510055689897, 22.370574794900424, 22.386639534110948, 22.402704273321476, 22.418769012532003, 22.434833751742527, 22.450898490953055, 22.466963230163582, 22.483027969374106, 22.499092708584634, 22.515157447795158, 22.531222187005685, 22.547286926216213, 22.563351665426737, 22.579416404637264, 22.595481143847792, 22.611545883058316, 22.627610622268843, 22.64367536147937, 22.659740100689895, 22.675804839900422, 22.69186957911095, 22.707934318321474, 22.723999057532, 22.74006379674253, 22.756128535953053, 22.77219327516358, 22.788258014374108, 22.804322753584632, 22.82038749279516, 22.836452232005687]}],                        {\"hovermode\": \"x unified\", \"legend\": {\"title\": {\"text\": \"variable\"}, \"tracegroupgap\": 0}, \"margin\": {\"t\": 60}, \"template\": {\"data\": {\"bar\": [{\"error_x\": {\"color\": \"#2a3f5f\"}, \"error_y\": {\"color\": \"#2a3f5f\"}, \"marker\": {\"line\": {\"color\": \"#E5ECF6\", \"width\": 0.5}}, \"type\": \"bar\"}], \"barpolar\": [{\"marker\": {\"line\": {\"color\": \"#E5ECF6\", \"width\": 0.5}}, \"type\": \"barpolar\"}], \"carpet\": [{\"aaxis\": {\"endlinecolor\": \"#2a3f5f\", \"gridcolor\": \"white\", \"linecolor\": \"white\", \"minorgridcolor\": \"white\", \"startlinecolor\": \"#2a3f5f\"}, \"baxis\": {\"endlinecolor\": \"#2a3f5f\", \"gridcolor\": \"white\", \"linecolor\": \"white\", \"minorgridcolor\": \"white\", \"startlinecolor\": \"#2a3f5f\"}, \"type\": \"carpet\"}], \"choropleth\": [{\"colorbar\": {\"outlinewidth\": 0, \"ticks\": \"\"}, \"type\": \"choropleth\"}], \"contour\": [{\"colorbar\": {\"outlinewidth\": 0, \"ticks\": \"\"}, \"colorscale\": [[0.0, \"#0d0887\"], [0.1111111111111111, \"#46039f\"], [0.2222222222222222, \"#7201a8\"], [0.3333333333333333, \"#9c179e\"], [0.4444444444444444, \"#bd3786\"], [0.5555555555555556, \"#d8576b\"], [0.6666666666666666, \"#ed7953\"], [0.7777777777777778, \"#fb9f3a\"], [0.8888888888888888, \"#fdca26\"], [1.0, \"#f0f921\"]], \"type\": \"contour\"}], \"contourcarpet\": [{\"colorbar\": {\"outlinewidth\": 0, \"ticks\": \"\"}, \"type\": \"contourcarpet\"}], \"heatmap\": [{\"colorbar\": {\"outlinewidth\": 0, \"ticks\": \"\"}, \"colorscale\": [[0.0, \"#0d0887\"], [0.1111111111111111, \"#46039f\"], [0.2222222222222222, \"#7201a8\"], [0.3333333333333333, \"#9c179e\"], [0.4444444444444444, \"#bd3786\"], [0.5555555555555556, \"#d8576b\"], [0.6666666666666666, \"#ed7953\"], [0.7777777777777778, \"#fb9f3a\"], [0.8888888888888888, \"#fdca26\"], [1.0, \"#f0f921\"]], \"type\": \"heatmap\"}], \"heatmapgl\": [{\"colorbar\": {\"outlinewidth\": 0, \"ticks\": \"\"}, \"colorscale\": [[0.0, \"#0d0887\"], [0.1111111111111111, \"#46039f\"], [0.2222222222222222, \"#7201a8\"], [0.3333333333333333, \"#9c179e\"], [0.4444444444444444, \"#bd3786\"], [0.5555555555555556, \"#d8576b\"], [0.6666666666666666, \"#ed7953\"], [0.7777777777777778, \"#fb9f3a\"], [0.8888888888888888, \"#fdca26\"], [1.0, \"#f0f921\"]], \"type\": \"heatmapgl\"}], \"histogram\": [{\"marker\": {\"colorbar\": {\"outlinewidth\": 0, \"ticks\": \"\"}}, \"type\": \"histogram\"}], \"histogram2d\": [{\"colorbar\": {\"outlinewidth\": 0, \"ticks\": \"\"}, \"colorscale\": [[0.0, \"#0d0887\"], [0.1111111111111111, \"#46039f\"], [0.2222222222222222, \"#7201a8\"], [0.3333333333333333, \"#9c179e\"], [0.4444444444444444, \"#bd3786\"], [0.5555555555555556, \"#d8576b\"], [0.6666666666666666, \"#ed7953\"], [0.7777777777777778, \"#fb9f3a\"], [0.8888888888888888, \"#fdca26\"], [1.0, \"#f0f921\"]], \"type\": \"histogram2d\"}], \"histogram2dcontour\": [{\"colorbar\": {\"outlinewidth\": 0, \"ticks\": \"\"}, \"colorscale\": [[0.0, \"#0d0887\"], [0.1111111111111111, \"#46039f\"], [0.2222222222222222, \"#7201a8\"], [0.3333333333333333, \"#9c179e\"], [0.4444444444444444, \"#bd3786\"], [0.5555555555555556, \"#d8576b\"], [0.6666666666666666, \"#ed7953\"], [0.7777777777777778, \"#fb9f3a\"], [0.8888888888888888, \"#fdca26\"], [1.0, \"#f0f921\"]], \"type\": \"histogram2dcontour\"}], \"mesh3d\": [{\"colorbar\": {\"outlinewidth\": 0, \"ticks\": \"\"}, \"type\": \"mesh3d\"}], \"parcoords\": [{\"line\": {\"colorbar\": {\"outlinewidth\": 0, \"ticks\": \"\"}}, \"type\": \"parcoords\"}], \"pie\": [{\"automargin\": true, \"type\": \"pie\"}], \"scatter\": [{\"marker\": {\"colorbar\": {\"outlinewidth\": 0, \"ticks\": \"\"}}, \"type\": \"scatter\"}], \"scatter3d\": [{\"line\": {\"colorbar\": {\"outlinewidth\": 0, \"ticks\": \"\"}}, \"marker\": {\"colorbar\": {\"outlinewidth\": 0, \"ticks\": \"\"}}, \"type\": \"scatter3d\"}], \"scattercarpet\": [{\"marker\": {\"colorbar\": {\"outlinewidth\": 0, \"ticks\": \"\"}}, \"type\": \"scattercarpet\"}], \"scattergeo\": [{\"marker\": {\"colorbar\": {\"outlinewidth\": 0, \"ticks\": \"\"}}, \"type\": \"scattergeo\"}], \"scattergl\": [{\"marker\": {\"colorbar\": {\"outlinewidth\": 0, \"ticks\": \"\"}}, \"type\": \"scattergl\"}], \"scattermapbox\": [{\"marker\": {\"colorbar\": {\"outlinewidth\": 0, \"ticks\": \"\"}}, \"type\": \"scattermapbox\"}], \"scatterpolar\": [{\"marker\": {\"colorbar\": {\"outlinewidth\": 0, \"ticks\": \"\"}}, \"type\": \"scatterpolar\"}], \"scatterpolargl\": [{\"marker\": {\"colorbar\": {\"outlinewidth\": 0, \"ticks\": \"\"}}, \"type\": \"scatterpolargl\"}], \"scatterternary\": [{\"marker\": {\"colorbar\": {\"outlinewidth\": 0, \"ticks\": \"\"}}, \"type\": \"scatterternary\"}], \"surface\": [{\"colorbar\": {\"outlinewidth\": 0, \"ticks\": \"\"}, \"colorscale\": [[0.0, \"#0d0887\"], [0.1111111111111111, \"#46039f\"], [0.2222222222222222, \"#7201a8\"], [0.3333333333333333, \"#9c179e\"], [0.4444444444444444, \"#bd3786\"], [0.5555555555555556, \"#d8576b\"], [0.6666666666666666, \"#ed7953\"], [0.7777777777777778, \"#fb9f3a\"], [0.8888888888888888, \"#fdca26\"], [1.0, \"#f0f921\"]], \"type\": \"surface\"}], \"table\": [{\"cells\": {\"fill\": {\"color\": \"#EBF0F8\"}, \"line\": {\"color\": \"white\"}}, \"header\": {\"fill\": {\"color\": \"#C8D4E3\"}, \"line\": {\"color\": \"white\"}}, \"type\": \"table\"}]}, \"layout\": {\"annotationdefaults\": {\"arrowcolor\": \"#2a3f5f\", \"arrowhead\": 0, \"arrowwidth\": 1}, \"autotypenumbers\": \"strict\", \"coloraxis\": {\"colorbar\": {\"outlinewidth\": 0, \"ticks\": \"\"}}, \"colorscale\": {\"diverging\": [[0, \"#8e0152\"], [0.1, \"#c51b7d\"], [0.2, \"#de77ae\"], [0.3, \"#f1b6da\"], [0.4, \"#fde0ef\"], [0.5, \"#f7f7f7\"], [0.6, \"#e6f5d0\"], [0.7, \"#b8e186\"], [0.8, \"#7fbc41\"], [0.9, \"#4d9221\"], [1, \"#276419\"]], \"sequential\": [[0.0, \"#0d0887\"], [0.1111111111111111, \"#46039f\"], [0.2222222222222222, \"#7201a8\"], [0.3333333333333333, \"#9c179e\"], [0.4444444444444444, \"#bd3786\"], [0.5555555555555556, \"#d8576b\"], [0.6666666666666666, \"#ed7953\"], [0.7777777777777778, \"#fb9f3a\"], [0.8888888888888888, \"#fdca26\"], [1.0, \"#f0f921\"]], \"sequentialminus\": [[0.0, \"#0d0887\"], [0.1111111111111111, \"#46039f\"], [0.2222222222222222, \"#7201a8\"], [0.3333333333333333, \"#9c179e\"], [0.4444444444444444, \"#bd3786\"], [0.5555555555555556, \"#d8576b\"], [0.6666666666666666, \"#ed7953\"], [0.7777777777777778, \"#fb9f3a\"], [0.8888888888888888, \"#fdca26\"], [1.0, \"#f0f921\"]]}, \"colorway\": [\"#636efa\", \"#EF553B\", \"#00cc96\", \"#ab63fa\", \"#FFA15A\", \"#19d3f3\", \"#FF6692\", \"#B6E880\", \"#FF97FF\", \"#FECB52\"], \"font\": {\"color\": \"#2a3f5f\"}, \"geo\": {\"bgcolor\": \"white\", \"lakecolor\": \"white\", \"landcolor\": \"#E5ECF6\", \"showlakes\": true, \"showland\": true, \"subunitcolor\": \"white\"}, \"hoverlabel\": {\"align\": \"left\"}, \"hovermode\": \"closest\", \"mapbox\": {\"style\": \"light\"}, \"paper_bgcolor\": \"white\", \"plot_bgcolor\": \"#E5ECF6\", \"polar\": {\"angularaxis\": {\"gridcolor\": \"white\", \"linecolor\": \"white\", \"ticks\": \"\"}, \"bgcolor\": \"#E5ECF6\", \"radialaxis\": {\"gridcolor\": \"white\", \"linecolor\": \"white\", \"ticks\": \"\"}}, \"scene\": {\"xaxis\": {\"backgroundcolor\": \"#E5ECF6\", \"gridcolor\": \"white\", \"gridwidth\": 2, \"linecolor\": \"white\", \"showbackground\": true, \"ticks\": \"\", \"zerolinecolor\": \"white\"}, \"yaxis\": {\"backgroundcolor\": \"#E5ECF6\", \"gridcolor\": \"white\", \"gridwidth\": 2, \"linecolor\": \"white\", \"showbackground\": true, \"ticks\": \"\", \"zerolinecolor\": \"white\"}, \"zaxis\": {\"backgroundcolor\": \"#E5ECF6\", \"gridcolor\": \"white\", \"gridwidth\": 2, \"linecolor\": \"white\", \"showbackground\": true, \"ticks\": \"\", \"zerolinecolor\": \"white\"}}, \"shapedefaults\": {\"line\": {\"color\": \"#2a3f5f\"}}, \"ternary\": {\"aaxis\": {\"gridcolor\": \"white\", \"linecolor\": \"white\", \"ticks\": \"\"}, \"baxis\": {\"gridcolor\": \"white\", \"linecolor\": \"white\", \"ticks\": \"\"}, \"bgcolor\": \"#E5ECF6\", \"caxis\": {\"gridcolor\": \"white\", \"linecolor\": \"white\", \"ticks\": \"\"}}, \"title\": {\"x\": 0.05}, \"xaxis\": {\"automargin\": true, \"gridcolor\": \"white\", \"linecolor\": \"white\", \"ticks\": \"\", \"title\": {\"standoff\": 15}, \"zerolinecolor\": \"white\", \"zerolinewidth\": 2}, \"yaxis\": {\"automargin\": true, \"gridcolor\": \"white\", \"linecolor\": \"white\", \"ticks\": \"\", \"title\": {\"standoff\": 15}, \"zerolinecolor\": \"white\", \"zerolinewidth\": 2}}}, \"title\": {\"text\": \"Temperatura Media de Colombia 1984-2021\", \"x\": 0.22}, \"updatemenus\": [{\"active\": -1, \"buttons\": [{\"args\": [{\"visible\": [true, true, true, true]}, {\"annotations\": [{\"font\": {\"color\": \"darkorange\", \"size\": 14}, \"showarrow\": false, \"text\": \"y = 0.16x + 22.26 [\\u00b0C/decada]\", \"x\": \"1995\", \"xref\": \"x\", \"y\": 22.21021986, \"yref\": \"y\"}]}], \"label\": \"Regresion:On\", \"method\": \"update\"}, {\"args\": [{\"visible\": [true, true, false, false]}, {\"annotations\": []}], \"label\": \"Regresion:Off\", \"method\": \"update\"}], \"pad\": {\"r\": 10, \"t\": 10}, \"showactive\": true, \"type\": \"buttons\", \"x\": 1.04, \"xanchor\": \"left\", \"y\": 0.015, \"yanchor\": \"bottom\"}], \"xaxis\": {\"anchor\": \"y\", \"domain\": [0.0, 1.0], \"title\": {\"text\": \"Tiempo\"}}, \"yaxis\": {\"anchor\": \"x\", \"domain\": [0.0, 1.0], \"title\": {\"text\": \"\\u00b0C (Grado Cent\\u00edgrado)\"}}},                        {\"responsive\": true}                    ).then(function(){\n",
       "                            \n",
       "var gd = document.getElementById('a979ef80-b59a-44fe-b2d8-7c9f7954e942');\n",
       "var x = new MutationObserver(function (mutations, observer) {{\n",
       "        var display = window.getComputedStyle(gd).display;\n",
       "        if (!display || display === 'none') {{\n",
       "            console.log([gd, 'removed!']);\n",
       "            Plotly.purge(gd);\n",
       "            observer.disconnect();\n",
       "        }}\n",
       "}});\n",
       "\n",
       "// Listen for the removal of the full notebook cells\n",
       "var notebookContainer = gd.closest('#notebook-container');\n",
       "if (notebookContainer) {{\n",
       "    x.observe(notebookContainer, {childList: true});\n",
       "}}\n",
       "\n",
       "// Listen for the clearing of the current output cell\n",
       "var outputEl = gd.closest('.output');\n",
       "if (outputEl) {{\n",
       "    x.observe(outputEl, {childList: true});\n",
       "}}\n",
       "\n",
       "                        })                };                });            </script>        </div>"
      ]
     },
     "metadata": {},
     "output_type": "display_data"
    }
   ],
   "source": [
    "import plotly.express as px\n",
    "import plotly.graph_objects as go\n",
    "import pandas as pd\n",
    "import numpy as np\n",
    "import datetime as dt\n",
    "from sklearn.linear_model import LinearRegression\n",
    "\n",
    "#Se importa los datos\n",
    "df = pd.read_csv(str(r\".\\Datos\\Temperatura\\Temperatura_Nacional_Anual.csv\"))\n",
    "df.Fecha = pd.to_datetime(df['Fecha'], format = '%d/%m/%Y')\n",
    "\n",
    "fig = px.line(df, x=\"Fecha\", y=[\"Normal Climatica (1980-2010)\", \"Temperatura del Aire\"])\n",
    "fig.update_traces(mode=\"markers+lines\", hovertemplate=None)\n",
    "fig.update_layout(hovermode=\"x unified\", yaxis_title=\"°C (Grado Centígrado)\", xaxis_title=\"Tiempo\",\n",
    "                 title_text=\"Temperatura Media de Colombia 1984-2021\", title_x=0.22)\n",
    "\n",
    "#Regresion Lineal\n",
    "layoutAnnotationList = []\n",
    "regr = LinearRegression()\n",
    "x = np.array(range(len(df)))\n",
    "y = np.array(df['Temperatura del Aire'])\n",
    "regr.fit(x.reshape(-1, 1), y.reshape(-1, 1))\n",
    "linear_regresion = regr.predict(x.astype(float).reshape(-1, 1))\n",
    "slope_anual = regr.coef_[0][0]*10\n",
    "text = 'y = '+str(round(slope_anual,2))+'x + '+str(round(regr.intercept_[0],2))+' [°C/decada]'\n",
    "fig.add_trace((go.Scatter(x=df['Fecha'].tolist(),y=list(linear_regresion.ravel()), mode=\"lines\", name='Regresion Lineal', \n",
    "                   legendgroup=\"group\", visible = 'legendonly',line=dict(color=\"orange\"))))    \n",
    "layoutAnnotationList.append(dict(text=text, xref=\"x\", yref=\"y\",x='1995', y=min(y), showarrow=False, font=dict(color='darkorange',size = 14)))  \n",
    "\n",
    "# Agregar Botones\n",
    "layoutButtons = list([dict(type=\"buttons\",active=-1,\n",
    "                           buttons=list([   \n",
    "                        dict(label = 'Regresion:On',\n",
    "                             method = 'update',\n",
    "                             args = [{'visible': [True, True, True, True]},{'annotations':layoutAnnotationList}]),\n",
    "                        dict(label = 'Regresion:Off',\n",
    "                            method = 'update',\n",
    "                             args = [{'visible':[True, True, False, False]},{'annotations':[]}]),\n",
    "                                        ]),\n",
    "                           pad={\"r\": 10, \"t\": 10},showactive=True,x=1.04,xanchor=\"left\",\n",
    "                           y=0.015 ,yanchor=\"bottom\"\n",
    "                           )\n",
    "                    ])\n",
    "\n",
    "fig.update_layout(updatemenus=layoutButtons)\n",
    "\n",
    "fig.show()"
   ]
  },
  {
   "cell_type": "code",
   "execution_count": 10,
   "metadata": {},
   "outputs": [
    {
     "name": "stdout",
     "output_type": "stream",
     "text": [
      "Temperatura Media en Berlin (Santander)\n",
      " \n",
      " Octubre de 2020:  13.371 \n",
      " Diciembre de 2020:  12.048070175438596 \n",
      "\n"
     ]
    }
   ],
   "source": [
    "#Manejo datos de Estaciones Berlin\n",
    "import pandas as pd\n",
    "import datetime as dt\n",
    "import numpy as np\n",
    "import ast\n",
    "\n",
    "meses = [10,12] # Octubre, Noviembre, Diciembre\n",
    "valor = []\n",
    "\n",
    "for mes in meses: \n",
    "    df = pd.read_csv(r\".\\Datos\\Datos_Berlin.csv\") #Se cargan los datos de Berlin\n",
    "    df['timestamp'] = pd.to_datetime(df['timestamp']) #Se leen las fechas\n",
    "    df.dropna(subset = [\"temperature\"], inplace=True) #Se remueven filas sin datos de temperatura \n",
    "    \n",
    "    #Filtro 1. Se seleccionan los datos que se recolectaron entre octubre y diciembre de 2020\n",
    "    mask = (df['timestamp'].dt.year == 2020) & (df['timestamp'].dt.month == mes) \n",
    "    filtro1_df = df.loc[mask]\n",
    "\n",
    "    #Se selecciona solo primer dato en cada hora\n",
    "    filtro1_df = filtro1_df.set_index('timestamp')\n",
    "    filtro1_df = filtro1_df.groupby(filtro1_df.index.floor('H')).first()\n",
    "    \n",
    "    #Filtro 2. Se seleccionan los datos que se recolectaron a las 7, 13 y 18 horas\n",
    "    mask2 = (filtro1_df.index.hour == 7) | (filtro1_df.index.hour == 13) | (filtro1_df.index.hour == 19)\n",
    "    filtro2_df = filtro1_df.loc[mask2]\n",
    "    \n",
    "    #Se verifica que si existan 3 datos para cada dia\n",
    "    for day in range(1,31):\n",
    "        df2 = filtro2_df.loc[filtro2_df.index.day == day]\n",
    "        if ~(df2['temperature'].count() == 3):\n",
    "            filtro2_df = filtro2_df.drop(df2['temperature'].index.tolist())\n",
    "\n",
    "    #Se extrae el valor de temperatura media\n",
    "    temperatura = filtro2_df['temperature'].apply(lambda x: ast.literal_eval(x)['value'])\n",
    "   \n",
    "    #Se calcula el promedio mensual\n",
    "    promedio_temperatura = temperatura.mean(skipna = True)\n",
    "\n",
    "    #Se guarda en lista\n",
    "    valor.append(promedio_temperatura)\n",
    "    \n",
    "print('Temperatura Media en Berlin (Santander)\\n \\n', 'Octubre de 2020: ', valor[0], '\\n', \n",
    "      'Diciembre de 2020: ', valor[1], '\\n')"
   ]
  },
  {
   "cell_type": "code",
   "execution_count": 11,
   "metadata": {},
   "outputs": [],
   "source": [
    "#####################################################################\n",
    "# Se programa para que se esconda el código de este Jupyter Notebook\n",
    "#####################################################################"
   ]
  },
  {
   "cell_type": "code",
   "execution_count": 12,
   "metadata": {},
   "outputs": [
    {
     "data": {
      "text/html": [
       "<script>\n",
       "code_show=true; \n",
       "function code_toggle() {\n",
       " if (code_show){\n",
       " $('div.input').hide();\n",
       " } else {\n",
       " $('div.input').show();\n",
       " }\n",
       " code_show = !code_show\n",
       "} \n",
       "$( document ).ready(code_toggle);\n",
       "</script>\n",
       "El código de este cuaderno IPython está oculto de forma predeterminada para facilitar la lectura.\n",
       "Para activar / desactivar el código sin formato, haga clic <a href=\"javascript:code_toggle()\">aqui</a>."
      ],
      "text/plain": [
       "<IPython.core.display.HTML object>"
      ]
     },
     "execution_count": 12,
     "metadata": {},
     "output_type": "execute_result"
    }
   ],
   "source": [
    "from IPython.display import HTML\n",
    "HTML('''<script>\n",
    "code_show=true; \n",
    "function code_toggle() {\n",
    " if (code_show){\n",
    " $('div.input').hide();\n",
    " } else {\n",
    " $('div.input').show();\n",
    " }\n",
    " code_show = !code_show\n",
    "} \n",
    "$( document ).ready(code_toggle);\n",
    "</script>\n",
    "El código de este cuaderno IPython está oculto de forma predeterminada para facilitar la lectura.\n",
    "Para activar / desactivar el código sin formato, haga clic <a href=\"javascript:code_toggle()\">aqui</a>.''')"
   ]
  }
 ],
 "metadata": {
  "celltoolbar": "Edit Metadata",
  "kernelspec": {
   "display_name": "Python_3.6",
   "language": "python",
   "name": "python_3.6"
  },
  "language_info": {
   "codemirror_mode": {
    "name": "ipython",
    "version": 3
   },
   "file_extension": ".py",
   "mimetype": "text/x-python",
   "name": "python",
   "nbconvert_exporter": "python",
   "pygments_lexer": "ipython3",
   "version": "3.6.12"
  }
 },
 "nbformat": 4,
 "nbformat_minor": 4
}
