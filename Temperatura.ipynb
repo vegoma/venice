{
 "cells": [
  {
   "cell_type": "markdown",
   "metadata": {},
   "source": [
    "# Temperatura"
   ]
  },
  {
   "cell_type": "markdown",
   "metadata": {},
   "source": [
    "Para ver el concepto de Temperatura y Cambio Climático revise la [Introduccion](Introduction.ipynb).\n",
    "+ Mapas de Temperatura Media de años recientes de cada departamento.\n",
    "+ Gráfico de Tendencia de la Temperatura Promedio de Colombia."
   ]
  },
  {
   "cell_type": "code",
   "execution_count": 1,
   "metadata": {},
   "outputs": [
    {
     "data": {
      "text/html": [
       "<script>\n",
       "code_show=true; \n",
       "function code_toggle() {\n",
       " if (code_show){\n",
       " $('div.input').hide();\n",
       " } else {\n",
       " $('div.input').show();\n",
       " }\n",
       " code_show = !code_show\n",
       "} \n",
       "$( document ).ready(code_toggle);\n",
       "</script>\n",
       "The raw code for this IPython notebook is by default hidden for easier reading.\n",
       "To toggle on/off the raw code, click <a href=\"javascript:code_toggle()\">here</a>."
      ],
      "text/plain": [
       "<IPython.core.display.HTML object>"
      ]
     },
     "execution_count": 1,
     "metadata": {},
     "output_type": "execute_result"
    }
   ],
   "source": [
    "from IPython.display import HTML\n",
    "HTML('''<script>\n",
    "code_show=true; \n",
    "function code_toggle() {\n",
    " if (code_show){\n",
    " $('div.input').hide();\n",
    " } else {\n",
    " $('div.input').show();\n",
    " }\n",
    " code_show = !code_show\n",
    "} \n",
    "$( document ).ready(code_toggle);\n",
    "</script>\n",
    "The raw code for this IPython notebook is by default hidden for easier reading.\n",
    "To toggle on/off the raw code, click <a href=\"javascript:code_toggle()\">here</a>.''')"
   ]
  },
  {
   "cell_type": "markdown",
   "metadata": {},
   "source": [
    "## Mapas de Temperatura Media"
   ]
  },
  {
   "cell_type": "code",
   "execution_count": 2,
   "metadata": {},
   "outputs": [],
   "source": [
    "#Se descargan las librerias necesarias \n",
    "import matplotlib.pyplot as plt\n",
    "import numpy as np\n",
    "import pandas as pd\n",
    "import cartopy as cart\n",
    "import scipy.stats #Metodos estadisticos\n",
    "import matplotlib.colors as colors #Set Colors\n",
    "import wradlib.ipol as ipol #Metodo de Interpolación\n",
    "\n",
    "# El metodo para aplicar gradiente vertical de temperatura\n",
    "def regresion(zi, altitude, nivel, coeficiente):\n",
    "    temperature = []\n",
    "    for ZI_item, altitude_item in zip(zi, altitude):\n",
    "        if str(nivel) == 'altura_base':\n",
    "            ZI_item = ZI_item - coeficiente*altitude_item\n",
    "        elif str(nivel) == 'altura_real': \n",
    "            ZI_item = ZI_item + coeficiente*altitude_item\n",
    "        #agregar elemento dentro de temperatura\n",
    "        temperature.append(ZI_item)\n",
    "    #se devuelve el valor de temperatura \n",
    "    return temperature \n",
    "\n",
    "class Mapa:  \n",
    "    # El metodo inicial o constructor\n",
    "    def __init__(self, departamento, year, mes, tipo):\n",
    "     \n",
    "        # Instance Variable    \n",
    "        self.departamento = departamento\n",
    "        self.year = year\n",
    "        self.mes = mes\n",
    "        self.tipo = tipo\n",
    "        self.normal = '1981-2010' \n",
    "        \n",
    "    # El metodo para contruir mapas     \n",
    "    def get_mapa(self, ax, periodo):\n",
    "        \n",
    "        #Se define la extensión del mapa\n",
    "        if str(self.departamento) == 'Santander':\n",
    "            lllat, urlat, lllon, urlon = 5.5, 8.5, -75, -72   \n",
    "        elif str(self.departamento) == 'Magdalena':\n",
    "            lllat, urlat, lllon, urlon = 8.7, 11.5, -75.55, -73\n",
    "    \n",
    "        #Se establece instancia de Cartopy    \n",
    "        ax.set_extent([lllon, urlon, lllat, urlat], crs=cart.crs.PlateCarree())\n",
    "        ax.add_feature(cart.feature.OCEAN, zorder=100, edgecolor='k')#, facecolor = 'white')\n",
    "    \n",
    "        #Se dibujan los departamentos de Colombia\n",
    "        fname = r\".\\DIVISION_COLOMBIA\\MGN_DPTO_POLITICO.shp\"\n",
    "        adm1_shapes = list(cart.io.shapereader.Reader(fname).geometries())\n",
    "        ax.add_geometries(adm1_shapes, cart.crs.PlateCarree(), edgecolor='black', facecolor='none', alpha=0.5)\n",
    "\n",
    "        #Se cargan los datos de las estaciones    \n",
    "        df = pd.read_csv(str(r\".\\Datos\\Temperatura\\Temperatura_\"+str(periodo)+\".csv\"))\n",
    "\n",
    "        #Se seleccionan las estaciones que se ubiquen en el area del mapa \n",
    "        data_magdalena = df.loc[(df['LONGITUD'] < urlon) & (df['LONGITUD'] > lllon)\n",
    "                  & (df['LATITUD'] < urlat) & (df['LATITUD'] > lllat)]\n",
    "\n",
    "        #Se remueven filas de dataframe que no contienen valores para el mes especifico\n",
    "        data_magdalena = data_magdalena.dropna(subset=[str(self.mes)])\n",
    "\n",
    "        #Se extrae los valores de coordenadas, altura y valor de cada estacion\n",
    "        longitud = data_magdalena['LONGITUD'].tolist()\n",
    "        latitud = data_magdalena['LATITUD'].tolist()\n",
    "        elevacion = data_magdalena['ELEVACION'].tolist()\n",
    "        valor = data_magdalena[str(self.mes)].tolist()\n",
    "        src = np.vstack( (np.array(longitud), np.array(latitud)) ).transpose()\n",
    "\n",
    "        #Se crea una grilla 300x300\n",
    "        numcols, numrows = 350, 350\n",
    "        xtrg = np.linspace(lllon, urlon, numcols)\n",
    "        ytrg = np.linspace(lllat, urlat, numrows)\n",
    "        trg = np.meshgrid(xtrg, ytrg)\n",
    "        trg = np.vstack( (trg[0].ravel(), trg[1].ravel()) ).T\n",
    "\n",
    "        #Se calcula el coeficiente de regresión entre altura y temperatura a partir de los datos de las estaciones \n",
    "        result = scipy.stats.linregress(np.array(elevacion), np.array(valor))\n",
    "        coeficiente, r = result.slope, result.rvalue \n",
    "        if self.departamento == 'Magdalena' and r > -0.46:\n",
    "            dg = pd.read_csv(str(r\".\\Regresion de Elevacion\\Regresion_Temperatura_Magdalena_2018.csv\"))\n",
    "            coeficiente = dg[str(self.mes)][0]      \n",
    "        z = regresion(valor, elevacion, \"altura_base\", coeficiente)\n",
    "    \n",
    "        #Se aplica el método de interpolación OK (Ordinary Kriging)\n",
    "        idw = ipol.Idw(src, trg)\n",
    "        zi = idw(np.array(z))\n",
    "\n",
    "        #Regresion a la altura Real\n",
    "        data_hh = pd.read_csv(str(r\".\\Regresion de Elevacion\\Elevacion_\"+str(self.departamento)+\".csv\"))\n",
    "        altitude = np.array(data_hh[\"Elevacion\"].tolist())\n",
    "        ZI = np.array(regresion(zi, altitude, \"altura_real\",coeficiente))\n",
    "\n",
    "        if str(periodo) == \"1981-2010\":\n",
    "            self.Normal, self.x, self.y = ZI, xtrg, ytrg\n",
    "        elif str(periodo) != \"1981-2010\" and str(self.tipo) == \"Anomalia\":\n",
    "            return ZI, ax\n",
    "        \n",
    "        #Se dibuja los valores en el mapa\n",
    "        cmap = plt.get_cmap('jet',50)\n",
    "        con = plt.pcolormesh(xtrg, ytrg, ZI.reshape( (numcols, numrows) ), transform=cart.crs.PlateCarree(), alpha=0.6, cmap = cmap, vmin = 9, vmax = 34)\n",
    "    \n",
    "        #Se dibuja la grafica de colores\n",
    "        cbar = plt.colorbar(con, orientation='horizontal',fraction=.042, pad=0.03)\n",
    "        \n",
    "    def plot_mapas(self):\n",
    "        # Se define el tamaño del cuadro \n",
    "        plt.figure(figsize=(12.4, 9.4))\n",
    "\n",
    "        # Tabla 1x3 y dibujaremos en la celda 1\n",
    "        ax = plt.subplot(1, 2, 1, projection=cart.crs.PlateCarree())\n",
    "        ax.set_title('Normal Climatologica Temperatura (1981-2010)',fontdict = {'fontsize':13})\n",
    "        self.get_mapa(ax,self.normal)\n",
    "        normal, x, y = self.Normal, self.x, self.y\n",
    "\n",
    "        # Tabla 1x3 y dibujaremos en la celda 2\n",
    "        ax = plt.subplot(1, 2, 2, projection=cart.crs.PlateCarree()) \n",
    "        ax.set_title('Temperatura Media '+str(self.year),fontdict = {'fontsize':13})    \n",
    "    \n",
    "        #Se obtiene el mapa de Anomalia de Temperatura\n",
    "        if str(self.tipo) == 'Anomalia':\n",
    "            actual, ax = self.get_mapa(ax,self.year) \n",
    "            anomalia = np.subtract(actual,normal)\n",
    "            cmap = colors.ListedColormap([\"#0000ff\",\"#0170fe\",\"#00c5ff\",\"#bee8ff\",\"#fefffe\",\"#ffebaf\",\"#ffd37f\",\"#feab00\",\"#fe5501\"])\n",
    "            levels = [-5.0, -2.0, -1.5, -1.0, -0.5, 0.5, 1.0, 1.5, 2.0, 5.0]\n",
    "            norm = colors.BoundaryNorm(levels, cmap.N)\n",
    "            con = plt.pcolormesh(x,y,anomalia.reshape( (350, 350) ), transform=cart.crs.PlateCarree(), alpha=0.6, cmap = cmap, norm = norm)\n",
    "            cbar = plt.colorbar(con, orientation='horizontal',fraction=.042, pad=0.03)\n",
    "            ax.set_title('Anomalia de Temperatura Media '+str(self.year),fontdict = {'fontsize':13})\n",
    "        else:\n",
    "            self.get_mapa(ax,self.year)\n",
    "    \n",
    "        # Dibujamos el conjunto\n",
    "        plt.show()"
   ]
  },
  {
   "cell_type": "code",
   "execution_count": 3,
   "metadata": {},
   "outputs": [
    {
     "data": {
      "application/vnd.jupyter.widget-view+json": {
       "model_id": "3631a6f5e6e54b9288d56299e703a255",
       "version_major": 2,
       "version_minor": 0
      },
      "text/plain": [
       "HBox(children=(Dropdown(description='Mes:', options=(('Enero', 'ENE'), ('Febrero', 'FEB'), ('Marzo', 'MAR'), (…"
      ]
     },
     "metadata": {},
     "output_type": "display_data"
    },
    {
     "data": {
      "application/vnd.jupyter.widget-view+json": {
       "model_id": "7e7eedfa7f75479ea7c65bc3879e12c1",
       "version_major": 2,
       "version_minor": 0
      },
      "text/plain": [
       "Output()"
      ]
     },
     "metadata": {},
     "output_type": "display_data"
    }
   ],
   "source": [
    "import ipywidgets as widgets\n",
    "import time\n",
    "\n",
    "a = widgets.Dropdown(options=[('Enero', 'ENE'), ('Febrero', 'FEB'), ('Marzo', 'MAR'), ('Abril', 'ABR'), ('Mayo', 'MAY'),\n",
    "                             ('Junio', 'JUN'), ('Julio', 'JUL'), ('Agosto', 'AGO'), ('Septiembre', 'SEP'),\n",
    "                             ('Noviembre', 'NOV'), ('Diciembre', 'DIC')], description='Mes:')\n",
    "b = widgets.Dropdown(options=[2011,2012,2013,2014,2015,2016,2017,2018,2019,2020,2021], description='Año:')\n",
    "c = widgets.Dropdown(options=['Magdalena', 'Santander'], description='Dep:')\n",
    "d = widgets.Dropdown(options=[('Anomalía', 'Anomalia'), ('Valor Absoluto', 'Absoluto')], description='Tipo:')\n",
    "ui = widgets.HBox([a, b, c, d])\n",
    "def f(a, b, c, d):\n",
    "    start_time = time.time()\n",
    "    m = Mapa(c,b,a,d)\n",
    "    m.plot_mapas()\n",
    "    print(\"--- %s seconds ---\" % (time.time() - start_time))\n",
    "\n",
    "out = widgets.interactive_output(f, {'a': a, 'b': b, 'c': c, 'd': d})\n",
    "\n",
    "display(ui, out)"
   ]
  },
  {
   "cell_type": "markdown",
   "metadata": {},
   "source": [
    "## Gráfico de Tendencia Nacional"
   ]
  },
  {
   "cell_type": "code",
   "execution_count": 7,
   "metadata": {},
   "outputs": [],
   "source": [
    "import plotly.express as px\n",
    "import pandas as pd\n",
    "import numpy as np\n",
    "import datetime as dt\n",
    "\n",
    "def get_trend(tipo):\n",
    "    #Se importa los datos\n",
    "    df = pd.read_csv(str(r\".\\Datos\\Temperatura\\Temperatura_Nacional.csv\"))\n",
    "    df.Fecha = pd.to_datetime(df['Fecha'], format = '%d/%m/%Y')\n",
    "\n",
    "    if tipo == 'Anual':\n",
    "        a,time = [],[]\n",
    "        for year in range(1984,2021):\n",
    "            filtro_df = df.loc[(df['Fecha'].dt.year == year)]\n",
    "            promedio = np.mean(filtro_df['Temperatura del Aire'])\n",
    "            a.append(promedio)\n",
    "            time.append(dt.date(year,1,1))    \n",
    "        df = pd.DataFrame({'Fecha': time, 'Temperatura del Aire': a, 'Normal Climatica (1980-2010)': df['Normal Climatica (1980-2010)'][0]})\n",
    "        \n",
    "    fig = px.line(df, x=\"Fecha\", y=[\"Normal Climatica (1980-2010)\", \"Temperatura del Aire\"])\n",
    "    fig.update_traces(mode=\"markers+lines\", hovertemplate=None)\n",
    "    fig.update_layout(hovermode=\"x unified\", yaxis_title=\"°C (Grado Centígrado)\", xaxis_title=\"Tiempo\",\n",
    "                     title_text=\"Temperatura Media de Colombia 1984-2021\", title_x=0.22)\n",
    "    fig.show()"
   ]
  },
  {
   "cell_type": "code",
   "execution_count": 8,
   "metadata": {
    "scrolled": false
   },
   "outputs": [
    {
     "data": {
      "application/vnd.jupyter.widget-view+json": {
       "model_id": "d138ecf725a243aa8c60043027d96596",
       "version_major": 2,
       "version_minor": 0
      },
      "text/plain": [
       "HBox(children=(Dropdown(description='Tipo:', options=('Mensual', 'Anual'), value='Mensual'),))"
      ]
     },
     "metadata": {},
     "output_type": "display_data"
    },
    {
     "data": {
      "application/vnd.jupyter.widget-view+json": {
       "model_id": "4781c832e46d4d8d99e4f4c020f2b232",
       "version_major": 2,
       "version_minor": 0
      },
      "text/plain": [
       "Output()"
      ]
     },
     "metadata": {},
     "output_type": "display_data"
    }
   ],
   "source": [
    "import ipywidgets as widgets\n",
    "\n",
    "a = widgets.Dropdown(options=['Mensual', 'Anual'], description='Tipo:')\n",
    "ui = widgets.HBox([a])\n",
    "def f(a):\n",
    "    get_trend(a)    \n",
    "\n",
    "out = widgets.interactive_output(f, {'a': a})\n",
    "\n",
    "display(ui, out)"
   ]
  },
  {
   "cell_type": "code",
   "execution_count": null,
   "metadata": {},
   "outputs": [],
   "source": []
  }
 ],
 "metadata": {
  "celltoolbar": "Edit Metadata",
  "kernelspec": {
   "display_name": "Python_3.6",
   "language": "python",
   "name": "python_3.6"
  },
  "language_info": {
   "codemirror_mode": {
    "name": "ipython",
    "version": 3
   },
   "file_extension": ".py",
   "mimetype": "text/x-python",
   "name": "python",
   "nbconvert_exporter": "python",
   "pygments_lexer": "ipython3",
   "version": "3.6.12"
  }
 },
 "nbformat": 4,
 "nbformat_minor": 4
}
