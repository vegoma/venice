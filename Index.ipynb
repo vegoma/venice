{
 "cells": [
  {
   "cell_type": "markdown",
   "metadata": {},
   "source": [
    "# Visualizador para la Enseñanza Interactiva del Cambio Climático en Escuelas\n",
    "\n",
    "El repositorio Github de estos notebooks es <https://github.com/vegoma/venice.git>\n"
   ]
  },
  {
   "cell_type": "markdown",
   "metadata": {},
   "source": [
    "## Contenido\n",
    "\n",
    " - [Prefacio](Prefacio.ipynb) -- Describe los objetivos del proyecto y estructura de los notebooks.\n",
    " \n",
    "## Parte I: Variables Climáticas\n",
    "\n",
    "  1. [Introduccion](Introduccion.ipynb) -- Introduce conceptos básicos del Cambio Climático.\n",
    "  1. [Temperatura](Temperatura.ipynb) -- Los mapas de cada departamento y grafico de tendencia del promedio nacional. \n",
    "  2. [Precipitacion](Precipitacion.ipynb) -- Los mapas de cada departamento y grafico de tendencia del promedio nacional.\n",
    "  3. [Nivel del Mar](Nivel_del_Mar.ipynb) -- Los mapas en region carible y grafico de tendencia a escala local. "
   ]
  },
  {
   "cell_type": "code",
   "execution_count": null,
   "metadata": {},
   "outputs": [],
   "source": []
  }
 ],
 "metadata": {
  "kernelspec": {
   "display_name": "Python 3 (ipykernel)",
   "language": "python",
   "name": "python3"
  },
  "language_info": {
   "codemirror_mode": {
    "name": "ipython",
    "version": 3
   },
   "file_extension": ".py",
   "mimetype": "text/x-python",
   "name": "python",
   "nbconvert_exporter": "python",
   "pygments_lexer": "ipython3",
   "version": "3.11.5"
  }
 },
 "nbformat": 4,
 "nbformat_minor": 4
}
