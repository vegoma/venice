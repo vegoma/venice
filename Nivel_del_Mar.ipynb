{
 "cells": [
  {
   "cell_type": "markdown",
   "metadata": {},
   "source": [
    "# Nivel del Mar\n",
    "\n",
    "Para ver el concepto de Nivel del Mar y Cambio Climático revise la [Introduccion](Introduction.ipynb).\n",
    "+ Mapas de Nivel del Mar de años recientes en Magdalena.\n",
    "+ Gráfico de Tendencia de Nivel del Mar en Santa Marta y Cartagena. "
   ]
  },
  {
   "cell_type": "code",
   "execution_count": 1,
   "metadata": {},
   "outputs": [
    {
     "data": {
      "text/html": [
       "<script>\n",
       "code_show=true; \n",
       "function code_toggle() {\n",
       " if (code_show){\n",
       " $('div.input').hide();\n",
       " } else {\n",
       " $('div.input').show();\n",
       " }\n",
       " code_show = !code_show\n",
       "} \n",
       "$( document ).ready(code_toggle);\n",
       "</script>\n",
       "The raw code for this IPython notebook is by default hidden for easier reading.\n",
       "To toggle on/off the raw code, click <a href=\"javascript:code_toggle()\">here</a>."
      ],
      "text/plain": [
       "<IPython.core.display.HTML object>"
      ]
     },
     "execution_count": 1,
     "metadata": {},
     "output_type": "execute_result"
    }
   ],
   "source": [
    "from IPython.display import HTML\n",
    "HTML('''<script>\n",
    "code_show=true; \n",
    "function code_toggle() {\n",
    " if (code_show){\n",
    " $('div.input').hide();\n",
    " } else {\n",
    " $('div.input').show();\n",
    " }\n",
    " code_show = !code_show\n",
    "} \n",
    "$( document ).ready(code_toggle);\n",
    "</script>\n",
    "The raw code for this IPython notebook is by default hidden for easier reading.\n",
    "To toggle on/off the raw code, click <a href=\"javascript:code_toggle()\">here</a>.''')"
   ]
  },
  {
   "cell_type": "markdown",
   "metadata": {},
   "source": [
    "## Mapas del Nive del Mar"
   ]
  },
  {
   "cell_type": "code",
   "execution_count": 44,
   "metadata": {},
   "outputs": [],
   "source": [
    "import matplotlib.pyplot as plt\n",
    "import matplotlib.image as mpimg\n",
    "    \n",
    "def nivel_mar(year):\n",
    "    fig = plt.figure(figsize=(10, 8))\n",
    "    ax = fig.add_subplot(111)\n",
    "    img = mpimg.imread(r'./Datos/Nivel del Mar/Nivel_Mar_'+str(year)+'.png')\n",
    "    imgplot = ax.imshow(img)\n",
    "    ax.axis('off')\n",
    "    #fig.suptitle('test title', fontsize=20)\n",
    "    plt.title('Nivel del Mar en Noviembre de '+str(year), fontsize=15)\n",
    "    plt.show()"
   ]
  },
  {
   "cell_type": "code",
   "execution_count": 45,
   "metadata": {},
   "outputs": [
    {
     "data": {
      "application/vnd.jupyter.widget-view+json": {
       "model_id": "6fd8522df4924a5c801444526f20a533",
       "version_major": 2,
       "version_minor": 0
      },
      "text/plain": [
       "HBox(children=(IntSlider(value=2014, description='Año:', max=2018, min=2014),))"
      ]
     },
     "metadata": {},
     "output_type": "display_data"
    },
    {
     "data": {
      "application/vnd.jupyter.widget-view+json": {
       "model_id": "8c728150892845c79feaf71110f30ee0",
       "version_major": 2,
       "version_minor": 0
      },
      "text/plain": [
       "Output()"
      ]
     },
     "metadata": {},
     "output_type": "display_data"
    }
   ],
   "source": [
    "import ipywidgets as widgets\n",
    "import time\n",
    "\n",
    "a = widgets.IntSlider(min=2014,max=2018,step=1, description='Año:')\n",
    "ui = widgets.HBox([a])\n",
    "def f(a):\n",
    "    nivel_mar(a)\n",
    "    \n",
    "out = widgets.interactive_output(f, {'a': a})\n",
    "\n",
    "display(ui, out)"
   ]
  },
  {
   "cell_type": "markdown",
   "metadata": {},
   "source": [
    "## Gráfico de Tendencia del Nivel del Mar "
   ]
  },
  {
   "cell_type": "code",
   "execution_count": 5,
   "metadata": {},
   "outputs": [],
   "source": [
    "import plotly.express as px\n",
    "import pandas as pd\n",
    "import numpy as np\n",
    "import datetime as dt\n",
    "\n",
    "def get_trend(ciudad):\n",
    "    df = pd.read_csv(r\".\\Datos\\Nivel del Mar\\\\\"+str(ciudad)+\".csv\")\n",
    "    df.Tiempo = pd.to_datetime(df['Tiempo'], format = '%d/%m/%Y')\n",
    "    \n",
    "    inicio = df['Tiempo'].dt.year.iloc[0]\n",
    "    final = df['Tiempo'].dt.year.iloc[-1]\n",
    "\n",
    "    fig = px.line(df, x=\"Tiempo\", y=[\"Nivel del Mar\"], template=\"seaborn\")\n",
    "    fig.update_traces(mode=\"markers+lines\", hovertemplate=None)\n",
    "    fig.update_layout(hovermode=\"x unified\", yaxis_title=\"Nivel Medio del Mar [mm]\", xaxis_title=\"Tiempo\",\n",
    "                     title_text='Nivel medio del Mar en '+str(ciudad)+' '+str(inicio)+'-'+str(final), title_x=0.22)\n",
    "  \n",
    "    fig.show()"
   ]
  },
  {
   "cell_type": "code",
   "execution_count": 6,
   "metadata": {},
   "outputs": [
    {
     "data": {
      "application/vnd.jupyter.widget-view+json": {
       "model_id": "5a29e8e594254bde8f0c12670e59ab8a",
       "version_major": 2,
       "version_minor": 0
      },
      "text/plain": [
       "HBox(children=(Dropdown(description='Tipo:', options=('Santa_Marta', 'Cartagena'), value='Santa_Marta'),))"
      ]
     },
     "metadata": {},
     "output_type": "display_data"
    },
    {
     "data": {
      "application/vnd.jupyter.widget-view+json": {
       "model_id": "07cee1b1cef74e8bbdaea705f4d9b0ab",
       "version_major": 2,
       "version_minor": 0
      },
      "text/plain": [
       "Output()"
      ]
     },
     "metadata": {},
     "output_type": "display_data"
    }
   ],
   "source": [
    "import ipywidgets as widgets\n",
    "\n",
    "a = widgets.Dropdown(options=['Santa_Marta', 'Cartagena'], description='Tipo:')\n",
    "ui = widgets.HBox([a])\n",
    "def f(a):\n",
    "    get_trend(a)\n",
    "\n",
    "out = widgets.interactive_output(f, {'a': a})\n",
    "\n",
    "display(ui, out)"
   ]
  }
 ],
 "metadata": {
  "celltoolbar": "Edit Metadata",
  "kernelspec": {
   "display_name": "Python_3.6",
   "language": "python",
   "name": "python_3.6"
  },
  "language_info": {
   "codemirror_mode": {
    "name": "ipython",
    "version": 3
   },
   "file_extension": ".py",
   "mimetype": "text/x-python",
   "name": "python",
   "nbconvert_exporter": "python",
   "pygments_lexer": "ipython3",
   "version": "3.6.12"
  }
 },
 "nbformat": 4,
 "nbformat_minor": 4
}
