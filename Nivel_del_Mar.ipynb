{
 "cells": [
  {
   "cell_type": "markdown",
   "metadata": {},
   "source": [
    "# Nivel del Mar\n",
    "\n",
    "Para ver el concepto de Nivel del Mar y Cambio Climático revise la [Introduccion](Introduction.ipynb).\n",
    "+ Mapas de Nivel del Mar de años recientes en Magdalena.\n",
    "+ Gráfico de Tendencia de Nivel del Mar en Santa Marta y Cartagena. "
   ]
  },
  {
   "cell_type": "code",
   "execution_count": null,
   "metadata": {},
   "outputs": [],
   "source": [
    "from IPython.display import HTML\n",
    "HTML('''<script>\n",
    "code_show=true; \n",
    "function code_toggle() {\n",
    " if (code_show){\n",
    " $('div.input').hide();\n",
    " } else {\n",
    " $('div.input').show();\n",
    " }\n",
    " code_show = !code_show\n",
    "} \n",
    "$( document ).ready(code_toggle);\n",
    "</script>\n",
    "The raw code for this IPython notebook is by default hidden for easier reading.\n",
    "To toggle on/off the raw code, click <a href=\"javascript:code_toggle()\">here</a>.''')"
   ]
  },
  {
   "cell_type": "markdown",
   "metadata": {},
   "source": [
    "## Mapas del Nive del Mar"
   ]
  },
  {
   "cell_type": "code",
   "execution_count": null,
   "metadata": {},
   "outputs": [],
   "source": [
    "import matplotlib.pyplot as plt\n",
    "import matplotlib.image as mpimg\n",
    "    \n",
    "def nivel_mar(year):\n",
    "    fig = plt.figure(figsize=(10, 8))\n",
    "    ax = fig.add_subplot(111)\n",
    "    img = mpimg.imread(r'./Datos/Nivel del Mar/Nivel_Mar_'+str(year)+'_ANUAL.png')\n",
    "    imgplot = ax.imshow(img)\n",
    "    ax.axis('off')\n",
    "    #fig.suptitle('test title', fontsize=20)\n",
    "    plt.title('Nivel del Mar en Noviembre de '+str(year), fontsize=15)\n",
    "    plt.show()"
   ]
  },
  {
   "cell_type": "code",
   "execution_count": null,
   "metadata": {},
   "outputs": [],
   "source": [
    "import ipywidgets as widgets\n",
    "import time\n",
    "\n",
    "a = widgets.IntSlider(min=2015,max=2018,step=1, description='Año:')\n",
    "ui = widgets.HBox([a])\n",
    "def f(a):\n",
    "    nivel_mar(a)\n",
    "    \n",
    "out = widgets.interactive_output(f, {'a': a})\n",
    "\n",
    "display(ui, out)"
   ]
  },
  {
   "cell_type": "markdown",
   "metadata": {},
   "source": [
    "## Gráfico de Tendencia del Nivel del Mar "
   ]
  },
  {
   "cell_type": "code",
   "execution_count": null,
   "metadata": {
    "scrolled": false
   },
   "outputs": [],
   "source": [
    "import plotly.express as px\n",
    "import plotly.graph_objects as go\n",
    "import pandas as pd\n",
    "import numpy as np\n",
    "import datetime as dt\n",
    "from sklearn.linear_model import LinearRegression\n",
    "\n",
    "df = pd.read_csv(r\"C:\\Users\\verit\\Documents\\Nivel_del_Mar_Imagenes\\Nivel_Mar_Tendencia.csv\")\n",
    "df.Tiempo = pd.to_datetime(df['Tiempo'], format = '%Y/%m/%d')\n",
    "df = df.interpolate() #pandas interpolation for missing data\n",
    "\n",
    "inicio = df['Tiempo'].dt.year.iloc[0]\n",
    "final = df['Tiempo'].dt.year.iloc[-1]\n",
    "\n",
    "fig = px.line(df, x=\"Tiempo\", y=[\"Santa_Marta\", \"Cartagena\"], template=\"seaborn\")\n",
    "fig.update_traces(mode=\"markers+lines\", hovertemplate=None)\n",
    "fig.update_layout(hovermode=\"x unified\", yaxis_title=\"Nivel Medio del Mar [mm]\", xaxis_title=\"Tiempo\",\n",
    "                     title_text='Nivel medio del Mar en '+str(inicio)+'-'+str(final)+ ' respecto a 2013', title_x=0.22)\n",
    "\n",
    "#Regresion Lineal\n",
    "ciudades = ['Santa_Marta','Cartagena']\n",
    "colores = ['#55a969','#c44e52']#'#dc8552','#4c72b0'\n",
    "layoutAnnotationList = []\n",
    "for ciudad,color in zip(ciudades,colores):\n",
    "    regr = LinearRegression()\n",
    "    x = np.array(range(len(df)))\n",
    "    y = np.array(df[str(ciudad)])\n",
    "    regr.fit(x.reshape(-1, 1), y.reshape(-1, 1))\n",
    "    regresion = regr.predict(x.astype(float).reshape(-1, 1))\n",
    "    slope_anual = regr.coef_[0][0]*12\n",
    "    text=ciudad+':  y = '+str(round(slope_anual,2))+'x + '+str(round(regr.intercept_[0],2))+' [mm/año]'\n",
    "    fig.add_trace((go.Scatter(x=df['Tiempo'].tolist(),y=list(regresion.ravel()), mode=\"lines\", name='Regresion Lineal', \n",
    "                   legendgroup=\"group\", visible = 'legendonly')))    \n",
    "    layoutAnnotationList.append(dict(text=text, xref=\"x\", yref=\"y\",x='2016-10-01', y=min(y), showarrow=False, font=dict(color=color,size = 14)))  \n",
    "\n",
    "    #score = regr.score(x.reshape(-1, 1), y.reshape(-1, 1))\n",
    "    #print('coefficient of determination R2:', score)\n",
    "    #from scipy.stats import pearsonr\n",
    "    #corr, _ = pearsonr(x, y)\n",
    "    #print('Pearsons correlation: %.3f' % corr)\n",
    "\n",
    "# Agregar Botones\n",
    "layoutButtons = list([dict(type=\"buttons\",active=-1,\n",
    "                           buttons=list([   \n",
    "                        dict(label = 'Regresion:On',\n",
    "                             method = 'update',\n",
    "                             args = [{'visible': [True, True, True, True]},{'annotations':layoutAnnotationList}]),\n",
    "                        dict(label = 'Regresion:Off',\n",
    "                            method = 'update',\n",
    "                             args = [{'visible':[True, True, False, False]},{'annotations':[]}]),\n",
    "                                        ]),\n",
    "                           pad={\"r\": 10, \"t\": 10},showactive=True,x=1.04,xanchor=\"left\",\n",
    "                           y=0.015 ,yanchor=\"bottom\"\n",
    "                           )\n",
    "                    ])\n",
    "\n",
    "fig.update_layout(updatemenus=layoutButtons)\n",
    "fig.show()"
   ]
  },
  {
   "cell_type": "code",
   "execution_count": null,
   "metadata": {},
   "outputs": [],
   "source": []
  }
 ],
 "metadata": {
  "celltoolbar": "Edit Metadata",
  "kernelspec": {
   "display_name": "Python_3.6",
   "language": "python",
   "name": "python_3.6"
  },
  "language_info": {
   "codemirror_mode": {
    "name": "ipython",
    "version": 3
   },
   "file_extension": ".py",
   "mimetype": "text/x-python",
   "name": "python",
   "nbconvert_exporter": "python",
   "pygments_lexer": "ipython3",
   "version": "3.6.12"
  }
 },
 "nbformat": 4,
 "nbformat_minor": 4
}
