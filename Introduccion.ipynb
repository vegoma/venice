{
 "cells": [
  {
   "cell_type": "markdown",
   "metadata": {},
   "source": [
    "# Introducción"
   ]
  },
  {
   "cell_type": "markdown",
   "metadata": {},
   "source": [
    "Es importante revisar algunos conceptos básicos sobre el Cambio Climático con el fin de entender y analizar su efecto en los ultimos años. Por lo tanto, a continuación mostramos algunas preguntas clave sobre esta temática."
   ]
  },
  {
   "cell_type": "markdown",
   "metadata": {},
   "source": [
    " ## ¿Cual es la diferencia entre Tiempo Atmosférico y Clima? "
   ]
  },
  {
   "cell_type": "markdown",
   "metadata": {},
   "source": [
    "Es bastante común confundir el **Tiempo Atmosférico** con el **Clima**, por lo que mostramos sus principales diferencias."
   ]
  },
  {
   "cell_type": "markdown",
   "metadata": {},
   "source": [
    "![title](.\\Imagenes\\ClimavsTAtmosferico.png)"
   ]
  },
  {
   "cell_type": "markdown",
   "metadata": {},
   "source": [
    " ## ¿Que es el Cambio Climático? "
   ]
  },
  {
   "cell_type": "markdown",
   "metadata": {},
   "source": [
    "Es la ***variación a largo plazo*** del **sistema climático**, el cual se compone de elementos como Atmósfera, Biósfera e Hidrósfera (como puede observar en la siguiente imagen). Este se puede manifestar en la medida de ***temperatura, precipitación, nivel del mar***, entre otras variables climáticas."
   ]
  },
  {
   "cell_type": "markdown",
   "metadata": {},
   "source": [
    "![title](.\\Imagenes\\Sistema_Climatico.png)"
   ]
  },
  {
   "cell_type": "markdown",
   "metadata": {},
   "source": [
    "Desde el comienzo de la Revolución Industrial, en 1760, se ha observado un aumento alarmante de la concentración de gases de efecto invernadero (como el dioxido de carbono) en la atmósfera que ha coincidido con cambios en el sistema climático (aceleración del aumento de temperatura, derretimiento de los glaciares, entre otros). \n",
    "\n",
    "Segun el informe de 2013 del Grupo Intergubernamental de Expertos sobre el Cambio Climático (IPCC) para la decada 2006-2015 **la actividad humana había calentado el mundo alrededor de 0.82°C** por encima de los niveles preindustriales (1850-1900) y se prevé que para 2030 alcancé 1.5°C."
   ]
  },
  {
   "cell_type": "markdown",
   "metadata": {},
   "source": [
    "## ¿Que es la Temperatura?"
   ]
  },
  {
   "cell_type": "markdown",
   "metadata": {},
   "source": [
    "Es la medida de la cantidad de calor que contiene un cuerpo u objeto, la cual esta relacionado con el movimiento de las particulas que lo forman. Las principales unidades de temperatura son: Kelvin (K), Celsius o Grados Centígrados (°C) y Fahrenheit (F). "
   ]
  },
  {
   "cell_type": "markdown",
   "metadata": {},
   "source": [
    "![title](.\\Imagenes\\Termometro.png)"
   ]
  },
  {
   "cell_type": "markdown",
   "metadata": {},
   "source": [
    "El **efecto invernadero** se encargado de retener y emitir la luz solar, manteniendo una temperatura apta para la vida en la tierra. Sin embargo, al aumentar la cantidad la gases de efecto invernadero -de manera forzosa debido a la actividad humana- se produce el **Calentamiento Global**, esto es, un aumento a largo plazo de la temperatura promedio de la tierra."
   ]
  },
  {
   "cell_type": "markdown",
   "metadata": {},
   "source": [
    "## ¿Que es la Precipitación?"
   ]
  },
  {
   "cell_type": "markdown",
   "metadata": {},
   "source": [
    "Es el agua, ya sea liquida o sólida, que cae sobre la superficie terrestre producto de la **condensación** del vapor de agua presente en la atmósfera. La **condensación** es el proceso en el que la materia cambia de estado gaseoso a líquido debido a su enfriamiento (o compresión)."
   ]
  },
  {
   "cell_type": "markdown",
   "metadata": {},
   "source": [
    "![title](.\\Imagenes\\Precipitacion.png)"
   ]
  },
  {
   "cell_type": "markdown",
   "metadata": {},
   "source": [
    "El aumento de temperatura global provoca el incremento de la **evaporación** del agua, el cual es el proceso en el que el estado del agua cambia de líquido a gaseoso. De esta manera, a mayor vapor de agua en la atmósfera ocurrira mayor precipitación en unas zonas mientras que en otras se intensificará la sequía."
   ]
  },
  {
   "cell_type": "markdown",
   "metadata": {},
   "source": [
    "## ¿Que es el Nivel del Mar?"
   ]
  },
  {
   "cell_type": "markdown",
   "metadata": {},
   "source": [
    "Es una medida que se usa como referencia para describir la elevación de un punto sobre la superficie terrestre. Este nivel no es igual en todo el planeta y esta cambiando constantemente debido a las mareas."
   ]
  },
  {
   "cell_type": "markdown",
   "metadata": {},
   "source": [
    "![title](.\\Imagenes\\nivel_mar.png)"
   ]
  },
  {
   "cell_type": "markdown",
   "metadata": {},
   "source": [
    "El aumento de temperatura global tambien ha provocado el aumento del nivel del Mar por medio de dos fenómenos: La expansión termica del agua de los oceanos (al calentarse ocupa mas espacio) y el deshielo (fusión de glaciares y casquetes)."
   ]
  },
  {
   "cell_type": "markdown",
   "metadata": {},
   "source": [
    "## ¿Que puedo hacer frente al Cambio Climático? \n",
    "El Cambio Climático es inevitable, sin embargo, podemos reducir sus efectos adoptando medidas de **Mitigación**. Por el otro lado, tambien es necesario prepararnos para sus consecuencias por medio de las medidas de **Adaptación**."
   ]
  },
  {
   "cell_type": "markdown",
   "metadata": {},
   "source": [
    " ![title](.\\Imagenes\\mitigacion-adaptacion-cambio-climatico.jpg)"
   ]
  },
  {
   "cell_type": "code",
   "execution_count": null,
   "metadata": {},
   "outputs": [],
   "source": []
  }
 ],
 "metadata": {
  "kernelspec": {
   "display_name": "Python_3.6",
   "language": "python",
   "name": "python_3.6"
  },
  "language_info": {
   "codemirror_mode": {
    "name": "ipython",
    "version": 3
   },
   "file_extension": ".py",
   "mimetype": "text/x-python",
   "name": "python",
   "nbconvert_exporter": "python",
   "pygments_lexer": "ipython3",
   "version": "3.6.13"
  }
 },
 "nbformat": 4,
 "nbformat_minor": 4
}
